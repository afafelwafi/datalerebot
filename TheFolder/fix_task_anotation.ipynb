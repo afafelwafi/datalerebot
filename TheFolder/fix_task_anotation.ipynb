{
 "cells": [
  {
   "cell_type": "code",
   "execution_count": null,
   "id": "dfc199be",
   "metadata": {},
   "outputs": [
    {
     "name": "stdout",
     "output_type": "stream",
     "text": [
      "Qwen/Qwen2.5-VL-3B-Instruct\n"
     ]
    },
    {
     "data": {
      "application/vnd.jupyter.widget-view+json": {
       "model_id": "50c1b2b623d04007a7a37d1671321e9d",
       "version_major": 2,
       "version_minor": 0
      },
      "text/plain": [
       "Loading checkpoint shards:   0%|          | 0/2 [00:00<?, ?it/s]"
      ]
     },
     "metadata": {},
     "output_type": "display_data"
    },
    {
     "name": "stderr",
     "output_type": "stream",
     "text": [
      "Using a slow image processor as `use_fast` is unset and a slow processor was saved with this model. `use_fast=True` will be the default behavior in v4.52, even if the model was saved with a slow processor. This will result in minor differences in outputs. You'll still be able to use a slow processor with `use_fast=False`.\n",
      "You have video processor config saved in `preprocessor.json` file which is deprecated. Video processor configs should be saved in their own `video_preprocessor.json` file. You can rename the file or load and save the processor back which renames it automatically. Loading from `preprocessor.json` will be removed in v5.0.\n",
      "2025-06-19 16:34:43,449 - root - WARNING - \n",
      "The dataset you requested (satvikahuja/mixer_on_off_new_1) is in 2.0 format.\n",
      "While current version of LeRobot is backward-compatible with it, the version of your dataset still uses global\n",
      "stats instead of per-episode stats. Update your dataset stats to the new format using this command:\n",
      "```\n",
      "python lerobot/common/datasets/v21/convert_dataset_v20_to_v21.py --repo-id=satvikahuja/mixer_on_off_new_1\n",
      "```\n",
      "\n",
      "If you encounter a problem, contact LeRobot maintainers on [Discord](https://discord.com/invite/s3KuuzsPFb)\n",
      "or open an [issue on GitHub](https://github.com/huggingface/lerobot/issues/new/choose).\n",
      "\n"
     ]
    },
    {
     "data": {
      "application/vnd.jupyter.widget-view+json": {
       "model_id": "0cfd9fe11bd9416dbd0fae9f873de905",
       "version_major": 2,
       "version_minor": 0
      },
      "text/plain": [
       "Resolving data files:   0%|          | 0/60 [00:00<?, ?it/s]"
      ]
     },
     "metadata": {},
     "output_type": "display_data"
    },
    {
     "name": "stderr",
     "output_type": "stream",
     "text": [
      "2025-06-19 16:34:44,667 - Task enhancer - INFO - Dataset structure debug:\n",
      "2025-06-19 16:34:44,668 - Task enhancer - INFO -   episode_data_index type: <class 'dict'>\n",
      "2025-06-19 16:34:44,669 - Task enhancer - INFO -   episode_data_index keys: dict_keys(['from', 'to'])\n",
      "2025-06-19 16:34:44,670 - Task enhancer - INFO -   'from' type: <class 'torch.Tensor'>\n",
      "2025-06-19 16:34:44,671 - Task enhancer - INFO -   'from' shape/length: torch.Size([60])\n",
      "2025-06-19 16:34:44,672 - Task enhancer - INFO - Enhancing 60 episodes...\n",
      "2025-06-19 16:34:44,672 - Task enhancer - INFO - Available tasks: {0: 'on off mixer'}\n",
      "Processing episodes:   0%|          | 0/60 [00:00<?, ?it/s]The following generation flags are not valid and may be ignored: ['temperature']. Set `TRANSFORMERS_VERBOSITY=info` for more details.\n",
      "2025-06-19 16:34:50,350 - Task enhancer - INFO - Updated task 0 description to: Turn on the blender.\n",
      "Processing episodes:   2%|▏         | 1/60 [00:05<05:34,  5.68s/it]The following generation flags are not valid and may be ignored: ['temperature']. Set `TRANSFORMERS_VERBOSITY=info` for more details.\n",
      "2025-06-19 16:34:53,306 - Task enhancer - INFO - Updated task 0 description to: Turn on the blender.\n",
      "Processing episodes:   3%|▎         | 2/60 [00:08<03:56,  4.08s/it]The following generation flags are not valid and may be ignored: ['temperature']. Set `TRANSFORMERS_VERBOSITY=info` for more details.\n",
      "2025-06-19 16:34:56,298 - Task enhancer - INFO - Updated task 0 description to: Turn on the NutriBullet\n",
      "Processing episodes:   5%|▌         | 3/60 [00:11<03:24,  3.58s/it]The following generation flags are not valid and may be ignored: ['temperature']. Set `TRANSFORMERS_VERBOSITY=info` for more details.\n",
      "2025-06-19 16:34:59,094 - Task enhancer - INFO - Updated task 0 description to: Adjust the mixer's settings.\n",
      "Processing episodes:   7%|▋         | 4/60 [00:14<03:03,  3.27s/it]The following generation flags are not valid and may be ignored: ['temperature']. Set `TRANSFORMERS_VERBOSITY=info` for more details.\n",
      "2025-06-19 16:35:02,033 - Task enhancer - INFO - Updated task 0 description to: Turn on the NutriBullet\n",
      "Processing episodes:   8%|▊         | 5/60 [00:17<02:53,  3.15s/it]The following generation flags are not valid and may be ignored: ['temperature']. Set `TRANSFORMERS_VERBOSITY=info` for more details.\n",
      "2025-06-19 16:35:04,833 - Task enhancer - INFO - Updated task 0 description to: Turn on the blender.\n",
      "Processing episodes:  10%|█         | 6/60 [00:20<02:43,  3.03s/it]The following generation flags are not valid and may be ignored: ['temperature']. Set `TRANSFORMERS_VERBOSITY=info` for more details.\n",
      "2025-06-19 16:35:07,956 - Task enhancer - INFO - Updated task 0 description to: Turn on the NutriBullet\n",
      "Processing episodes:  12%|█▏        | 7/60 [00:23<02:42,  3.06s/it]The following generation flags are not valid and may be ignored: ['temperature']. Set `TRANSFORMERS_VERBOSITY=info` for more details.\n",
      "2025-06-19 16:35:10,798 - Task enhancer - INFO - Updated task 0 description to: Turn on the NutriBullet\n",
      "Processing episodes:  13%|█▎        | 8/60 [00:26<02:35,  2.99s/it]The following generation flags are not valid and may be ignored: ['temperature']. Set `TRANSFORMERS_VERBOSITY=info` for more details.\n",
      "2025-06-19 16:35:13,721 - Task enhancer - INFO - Updated task 0 description to: Turn on the NutriBullet\n",
      "Processing episodes:  15%|█▌        | 9/60 [00:29<02:31,  2.97s/it]The following generation flags are not valid and may be ignored: ['temperature']. Set `TRANSFORMERS_VERBOSITY=info` for more details.\n",
      "2025-06-19 16:35:16,696 - Task enhancer - INFO - Updated task 0 description to: Turn on the hair dryer.\n",
      "Processing episodes:  17%|█▋        | 10/60 [00:32<02:28,  2.97s/it]The following generation flags are not valid and may be ignored: ['temperature']. Set `TRANSFORMERS_VERBOSITY=info` for more details.\n",
      "2025-06-19 16:35:19,665 - Task enhancer - INFO - Updated task 0 description to: Turn on the blender.\n",
      "Processing episodes:  18%|█▊        | 11/60 [00:34<02:25,  2.97s/it]The following generation flags are not valid and may be ignored: ['temperature']. Set `TRANSFORMERS_VERBOSITY=info` for more details.\n",
      "2025-06-19 16:35:22,721 - Task enhancer - INFO - Updated task 0 description to: Adjust the power settings of\n",
      "Processing episodes:  20%|██        | 12/60 [00:38<02:23,  3.00s/it]The following generation flags are not valid and may be ignored: ['temperature']. Set `TRANSFORMERS_VERBOSITY=info` for more details.\n",
      "2025-06-19 16:35:25,682 - Task enhancer - INFO - Updated task 0 description to: Adjust the blender's settings.\n",
      "Processing episodes:  22%|██▏       | 13/60 [00:41<02:20,  2.99s/it]The following generation flags are not valid and may be ignored: ['temperature']. Set `TRANSFORMERS_VERBOSITY=info` for more details.\n",
      "2025-06-19 16:35:28,519 - Task enhancer - INFO - Updated task 0 description to: Turn on the blender.\n",
      "Processing episodes:  23%|██▎       | 14/60 [00:43<02:15,  2.94s/it]The following generation flags are not valid and may be ignored: ['temperature']. Set `TRANSFORMERS_VERBOSITY=info` for more details.\n",
      "2025-06-19 16:35:31,364 - Task enhancer - INFO - Updated task 0 description to: Adjust the blender settings.\n",
      "Processing episodes:  25%|██▌       | 15/60 [00:46<02:11,  2.91s/it]The following generation flags are not valid and may be ignored: ['temperature']. Set `TRANSFORMERS_VERBOSITY=info` for more details.\n",
      "2025-06-19 16:35:34,416 - Task enhancer - INFO - Updated task 0 description to: Turn on the blender.\n",
      "Processing episodes:  27%|██▋       | 16/60 [00:49<02:09,  2.95s/it]The following generation flags are not valid and may be ignored: ['temperature']. Set `TRANSFORMERS_VERBOSITY=info` for more details.\n",
      "2025-06-19 16:35:37,430 - Task enhancer - INFO - Updated task 0 description to: Turn on the blender.\n",
      "Processing episodes:  28%|██▊       | 17/60 [00:52<02:07,  2.97s/it]The following generation flags are not valid and may be ignored: ['temperature']. Set `TRANSFORMERS_VERBOSITY=info` for more details.\n",
      "2025-06-19 16:35:40,669 - Task enhancer - INFO - Updated task 0 description to: Adjust the volume control on\n",
      "Processing episodes:  30%|███       | 18/60 [00:55<02:08,  3.05s/it]The following generation flags are not valid and may be ignored: ['temperature']. Set `TRANSFORMERS_VERBOSITY=info` for more details.\n",
      "2025-06-19 16:35:43,612 - Task enhancer - INFO - Updated task 0 description to: Turn on the blender.\n",
      "Processing episodes:  32%|███▏      | 19/60 [00:58<02:03,  3.02s/it]The following generation flags are not valid and may be ignored: ['temperature']. Set `TRANSFORMERS_VERBOSITY=info` for more details.\n",
      "2025-06-19 16:35:46,557 - Task enhancer - INFO - Updated task 0 description to: Turn on the blender.\n",
      "Processing episodes:  33%|███▎      | 20/60 [01:01<01:59,  3.00s/it]The following generation flags are not valid and may be ignored: ['temperature']. Set `TRANSFORMERS_VERBOSITY=info` for more details.\n",
      "2025-06-19 16:35:49,575 - Task enhancer - INFO - Updated task 0 description to: Turn on the blender.\n",
      "Processing episodes:  35%|███▌      | 21/60 [01:04<01:57,  3.00s/it]The following generation flags are not valid and may be ignored: ['temperature']. Set `TRANSFORMERS_VERBOSITY=info` for more details.\n",
      "2025-06-19 16:35:52,630 - Task enhancer - INFO - Updated task 0 description to: Turn on the blender.\n",
      "Processing episodes:  37%|███▋      | 22/60 [01:07<01:54,  3.02s/it]The following generation flags are not valid and may be ignored: ['temperature']. Set `TRANSFORMERS_VERBOSITY=info` for more details.\n",
      "2025-06-19 16:35:55,613 - Task enhancer - INFO - Updated task 0 description to: Turn on the blender.\n",
      "Processing episodes:  38%|███▊      | 23/60 [01:10<01:51,  3.01s/it]The following generation flags are not valid and may be ignored: ['temperature']. Set `TRANSFORMERS_VERBOSITY=info` for more details.\n",
      "2025-06-19 16:35:58,518 - Task enhancer - INFO - Updated task 0 description to: Turn on the blender.\n",
      "Processing episodes:  40%|████      | 24/60 [01:13<01:47,  2.98s/it]The following generation flags are not valid and may be ignored: ['temperature']. Set `TRANSFORMERS_VERBOSITY=info` for more details.\n",
      "2025-06-19 16:36:01,453 - Task enhancer - INFO - Updated task 0 description to: Adjust the blender's speed\n",
      "Processing episodes:  42%|████▏     | 25/60 [01:16<01:43,  2.96s/it]The following generation flags are not valid and may be ignored: ['temperature']. Set `TRANSFORMERS_VERBOSITY=info` for more details.\n",
      "2025-06-19 16:36:04,250 - Task enhancer - INFO - Updated task 0 description to: Turn on the blender.\n",
      "Processing episodes:  43%|████▎     | 26/60 [01:19<01:39,  2.91s/it]The following generation flags are not valid and may be ignored: ['temperature']. Set `TRANSFORMERS_VERBOSITY=info` for more details.\n",
      "2025-06-19 16:36:07,130 - Task enhancer - INFO - Updated task 0 description to: Turn on the blender.\n",
      "Processing episodes:  45%|████▌     | 27/60 [01:22<01:35,  2.90s/it]The following generation flags are not valid and may be ignored: ['temperature']. Set `TRANSFORMERS_VERBOSITY=info` for more details.\n",
      "2025-06-19 16:36:09,992 - Task enhancer - INFO - Updated task 0 description to: Turn on the blender.\n",
      "Processing episodes:  47%|████▋     | 28/60 [01:25<01:32,  2.89s/it]The following generation flags are not valid and may be ignored: ['temperature']. Set `TRANSFORMERS_VERBOSITY=info` for more details.\n",
      "2025-06-19 16:36:12,807 - Task enhancer - INFO - Updated task 0 description to: Adjust the mixer settings.\n",
      "Processing episodes:  48%|████▊     | 29/60 [01:28<01:28,  2.87s/it]The following generation flags are not valid and may be ignored: ['temperature']. Set `TRANSFORMERS_VERBOSITY=info` for more details.\n",
      "2025-06-19 16:36:15,689 - Task enhancer - INFO - Updated task 0 description to: Turn on the coffee maker.\n",
      "Processing episodes:  50%|█████     | 30/60 [01:31<01:26,  2.87s/it]The following generation flags are not valid and may be ignored: ['temperature']. Set `TRANSFORMERS_VERBOSITY=info` for more details.\n",
      "2025-06-19 16:36:18,629 - Task enhancer - INFO - Updated task 0 description to: Adjust the mixer settings.\n",
      "Processing episodes:  52%|█████▏    | 31/60 [01:33<01:23,  2.89s/it]The following generation flags are not valid and may be ignored: ['temperature']. Set `TRANSFORMERS_VERBOSITY=info` for more details.\n",
      "2025-06-19 16:36:21,928 - Task enhancer - INFO - Updated task 0 description to: Turn on the coffee maker.\n",
      "Processing episodes:  53%|█████▎    | 32/60 [01:37<01:24,  3.01s/it]The following generation flags are not valid and may be ignored: ['temperature']. Set `TRANSFORMERS_VERBOSITY=info` for more details.\n",
      "2025-06-19 16:36:25,070 - Task enhancer - INFO - Updated task 0 description to: Turn on the blender.\n",
      "Processing episodes:  55%|█████▌    | 33/60 [01:40<01:22,  3.05s/it]The following generation flags are not valid and may be ignored: ['temperature']. Set `TRANSFORMERS_VERBOSITY=info` for more details.\n",
      "2025-06-19 16:36:27,913 - Task enhancer - INFO - Updated task 0 description to: Turn on the blender.\n",
      "Processing episodes:  57%|█████▋    | 34/60 [01:43<01:17,  2.99s/it]The following generation flags are not valid and may be ignored: ['temperature']. Set `TRANSFORMERS_VERBOSITY=info` for more details.\n",
      "2025-06-19 16:36:30,984 - Task enhancer - INFO - Updated task 0 description to: Turn on the mixer using the\n",
      "Processing episodes:  58%|█████▊    | 35/60 [01:46<01:15,  3.01s/it]The following generation flags are not valid and may be ignored: ['temperature']. Set `TRANSFORMERS_VERBOSITY=info` for more details.\n",
      "2025-06-19 16:36:34,355 - Task enhancer - INFO - Updated task 0 description to: Turn on the blender using the\n",
      "Processing episodes:  60%|██████    | 36/60 [01:49<01:14,  3.12s/it]The following generation flags are not valid and may be ignored: ['temperature']. Set `TRANSFORMERS_VERBOSITY=info` for more details.\n",
      "2025-06-19 16:36:37,369 - Task enhancer - INFO - Updated task 0 description to: Turn on the blender.\n",
      "Processing episodes:  62%|██████▏   | 37/60 [01:52<01:11,  3.09s/it]The following generation flags are not valid and may be ignored: ['temperature']. Set `TRANSFORMERS_VERBOSITY=info` for more details.\n",
      "2025-06-19 16:36:40,405 - Task enhancer - INFO - Updated task 0 description to: Turn on the blender.\n",
      "Processing episodes:  63%|██████▎   | 38/60 [01:55<01:07,  3.07s/it]The following generation flags are not valid and may be ignored: ['temperature']. Set `TRANSFORMERS_VERBOSITY=info` for more details.\n",
      "2025-06-19 16:36:43,677 - Task enhancer - INFO - Updated task 0 description to: Adjust the volume control on\n",
      "Processing episodes:  65%|██████▌   | 39/60 [01:59<01:05,  3.13s/it]The following generation flags are not valid and may be ignored: ['temperature']. Set `TRANSFORMERS_VERBOSITY=info` for more details.\n",
      "2025-06-19 16:36:46,600 - Task enhancer - INFO - Updated task 0 description to: Turn on the blender.\n",
      "Processing episodes:  67%|██████▋   | 40/60 [02:01<01:01,  3.07s/it]The following generation flags are not valid and may be ignored: ['temperature']. Set `TRANSFORMERS_VERBOSITY=info` for more details.\n",
      "2025-06-19 16:36:49,693 - Task enhancer - INFO - Updated task 0 description to: Turn on the blender.\n",
      "Processing episodes:  68%|██████▊   | 41/60 [02:05<00:58,  3.08s/it]The following generation flags are not valid and may be ignored: ['temperature']. Set `TRANSFORMERS_VERBOSITY=info` for more details.\n",
      "2025-06-19 16:36:52,665 - Task enhancer - INFO - Updated task 0 description to: Adjust the mixer settings.\n",
      "Processing episodes:  70%|███████   | 42/60 [02:07<00:54,  3.05s/it]The following generation flags are not valid and may be ignored: ['temperature']. Set `TRANSFORMERS_VERBOSITY=info` for more details.\n",
      "2025-06-19 16:36:55,803 - Task enhancer - INFO - Updated task 0 description to: Turn on the blender.\n",
      "Processing episodes:  72%|███████▏  | 43/60 [02:11<00:52,  3.07s/it]The following generation flags are not valid and may be ignored: ['temperature']. Set `TRANSFORMERS_VERBOSITY=info` for more details.\n",
      "2025-06-19 16:36:58,806 - Task enhancer - INFO - Updated task 0 description to: Adjust the blender settings.\n",
      "Processing episodes:  73%|███████▎  | 44/60 [02:14<00:48,  3.05s/it]The following generation flags are not valid and may be ignored: ['temperature']. Set `TRANSFORMERS_VERBOSITY=info` for more details.\n",
      "2025-06-19 16:37:01,838 - Task enhancer - INFO - Updated task 0 description to: Adjust the volume control on\n",
      "Processing episodes:  75%|███████▌  | 45/60 [02:17<00:45,  3.05s/it]The following generation flags are not valid and may be ignored: ['temperature']. Set `TRANSFORMERS_VERBOSITY=info` for more details.\n",
      "2025-06-19 16:37:04,638 - Task enhancer - INFO - Updated task 0 description to: Turn on the blender.\n",
      "Processing episodes:  77%|███████▋  | 46/60 [02:19<00:41,  2.97s/it]The following generation flags are not valid and may be ignored: ['temperature']. Set `TRANSFORMERS_VERBOSITY=info` for more details.\n",
      "2025-06-19 16:37:07,719 - Task enhancer - INFO - Updated task 0 description to: Adjust the volume control on\n",
      "Processing episodes:  78%|███████▊  | 47/60 [02:23<00:39,  3.00s/it]The following generation flags are not valid and may be ignored: ['temperature']. Set `TRANSFORMERS_VERBOSITY=info` for more details.\n",
      "2025-06-19 16:37:11,023 - Task enhancer - INFO - Updated task 0 description to: Turn on the blender.\n",
      "Processing episodes:  80%|████████  | 48/60 [02:26<00:37,  3.09s/it]The following generation flags are not valid and may be ignored: ['temperature']. Set `TRANSFORMERS_VERBOSITY=info` for more details.\n",
      "2025-06-19 16:37:14,059 - Task enhancer - INFO - Updated task 0 description to: Turn on the blender.\n",
      "Processing episodes:  82%|████████▏ | 49/60 [02:29<00:33,  3.08s/it]The following generation flags are not valid and may be ignored: ['temperature']. Set `TRANSFORMERS_VERBOSITY=info` for more details.\n",
      "2025-06-19 16:37:16,944 - Task enhancer - INFO - Updated task 0 description to: Adjust the mixer's settings.\n",
      "Processing episodes:  83%|████████▎ | 50/60 [02:32<00:30,  3.02s/it]The following generation flags are not valid and may be ignored: ['temperature']. Set `TRANSFORMERS_VERBOSITY=info` for more details.\n",
      "2025-06-19 16:37:19,766 - Task enhancer - INFO - Updated task 0 description to: Turn on the blender.\n",
      "Processing episodes:  85%|████████▌ | 51/60 [02:35<00:26,  2.96s/it]The following generation flags are not valid and may be ignored: ['temperature']. Set `TRANSFORMERS_VERBOSITY=info` for more details.\n",
      "2025-06-19 16:37:22,553 - Task enhancer - INFO - Updated task 0 description to: Turn on the hair dryer.\n",
      "Processing episodes:  87%|████████▋ | 52/60 [02:37<00:23,  2.91s/it]The following generation flags are not valid and may be ignored: ['temperature']. Set `TRANSFORMERS_VERBOSITY=info` for more details.\n",
      "2025-06-19 16:37:23,685 - Task enhancer - INFO - Updated task 0 description to: Turn on the light switch.\n",
      "Processing episodes:  88%|████████▊ | 53/60 [02:39<00:16,  2.38s/it]The following generation flags are not valid and may be ignored: ['temperature']. Set `TRANSFORMERS_VERBOSITY=info` for more details.\n",
      "2025-06-19 16:37:26,440 - Task enhancer - INFO - Updated task 0 description to: Turn on the blender.\n",
      "Processing episodes:  90%|█████████ | 54/60 [02:41<00:14,  2.49s/it]The following generation flags are not valid and may be ignored: ['temperature']. Set `TRANSFORMERS_VERBOSITY=info` for more details.\n",
      "2025-06-19 16:37:29,248 - Task enhancer - INFO - Updated task 0 description to: Turn on the blender.\n",
      "Processing episodes:  92%|█████████▏| 55/60 [02:44<00:12,  2.58s/it]The following generation flags are not valid and may be ignored: ['temperature']. Set `TRANSFORMERS_VERBOSITY=info` for more details.\n",
      "2025-06-19 16:37:32,366 - Task enhancer - INFO - Updated task 0 description to: Turn on the mixer using the\n",
      "Processing episodes:  93%|█████████▎| 56/60 [02:47<00:10,  2.74s/it]The following generation flags are not valid and may be ignored: ['temperature']. Set `TRANSFORMERS_VERBOSITY=info` for more details.\n",
      "2025-06-19 16:37:35,085 - Task enhancer - INFO - Updated task 0 description to: Turn on the blender.\n",
      "Processing episodes:  95%|█████████▌| 57/60 [02:50<00:08,  2.74s/it]The following generation flags are not valid and may be ignored: ['temperature']. Set `TRANSFORMERS_VERBOSITY=info` for more details.\n",
      "2025-06-19 16:37:37,898 - Task enhancer - INFO - Updated task 0 description to: Turn on the blender.\n",
      "Processing episodes:  97%|█████████▋| 58/60 [02:53<00:05,  2.76s/it]The following generation flags are not valid and may be ignored: ['temperature']. Set `TRANSFORMERS_VERBOSITY=info` for more details.\n",
      "2025-06-19 16:37:39,059 - Task enhancer - INFO - Updated task 0 description to: Turn on the light switch.\n",
      "Processing episodes:  98%|█████████▊| 59/60 [02:54<00:02,  2.28s/it]The following generation flags are not valid and may be ignored: ['temperature']. Set `TRANSFORMERS_VERBOSITY=info` for more details.\n",
      "2025-06-19 16:37:41,985 - Task enhancer - INFO - Updated task 0 description to: Adjust the blender's settings.\n",
      "Processing episodes: 100%|██████████| 60/60 [02:57<00:00,  2.96s/it]\n",
      "2025-06-19 16:37:48,279 - Task enhancer - INFO - Modifying: tasks.jsonl\n",
      "2025-06-19 16:37:48,305 - Task enhancer - INFO - Modifying  with :\n",
      "2025-06-19 16:37:48,308 - Task enhancer - ERROR - Error modifying tasks.jsonl: write() argument must be str, not None\n",
      "2025-06-19 16:37:48,308 - Task enhancer - INFO - Modifying: stats.json\n",
      "2025-06-19 16:37:48,309 - Task enhancer - INFO - Modifying  with :\n",
      "2025-06-19 16:37:48,315 - Task enhancer - ERROR - Error modifying stats.json: write() argument must be str, not None\n",
      "2025-06-19 16:37:48,316 - Task enhancer - INFO - Modifying: episodes.jsonl\n",
      "2025-06-19 16:37:48,317 - Task enhancer - INFO - Modifying  with :\n",
      "2025-06-19 16:37:48,318 - Task enhancer - ERROR - Error modifying episodes.jsonl: write() argument must be str, not None\n",
      "2025-06-19 16:37:48,319 - Task enhancer - INFO - Modifying: info.json\n",
      "2025-06-19 16:37:48,321 - Task enhancer - INFO - Modifying  with :\n",
      "2025-06-19 16:37:48,323 - Task enhancer - ERROR - Error modifying info.json: write() argument must be str, not None\n",
      "It seems you are trying to upload a large folder at once. This might take some time and then fail if the folder is too large. For such cases, it is recommended to upload in smaller batches or to use `HfApi().upload_large_folder(...)`/`huggingface-cli upload-large-folder` instead. For more details, check out https://huggingface.co/docs/huggingface_hub/main/en/guides/upload#upload-a-large-folder.\n",
      "2025-06-19 16:37:48,872 - huggingface_hub.hf_api - WARNING - It seems you are trying to upload a large folder at once. This might take some time and then fail if the folder is too large. For such cases, it is recommended to upload in smaller batches or to use `HfApi().upload_large_folder(...)`/`huggingface-cli upload-large-folder` instead. For more details, check out https://huggingface.co/docs/huggingface_hub/main/en/guides/upload#upload-a-large-folder.\n"
     ]
    },
    {
     "data": {
      "application/vnd.jupyter.widget-view+json": {
       "model_id": "0693bbca5aed4b4c8c01573b45233d11",
       "version_major": 2,
       "version_minor": 0
      },
      "text/plain": [
       "episode_000003.parquet:   0%|          | 0.00/28.5k [00:00<?, ?B/s]"
      ]
     },
     "metadata": {},
     "output_type": "display_data"
    },
    {
     "data": {
      "application/vnd.jupyter.widget-view+json": {
       "model_id": "e2ded63547f9457f80ccc52379fdb9af",
       "version_major": 2,
       "version_minor": 0
      },
      "text/plain": [
       "episode_000001.parquet:   0%|          | 0.00/28.3k [00:00<?, ?B/s]"
      ]
     },
     "metadata": {},
     "output_type": "display_data"
    },
    {
     "data": {
      "application/vnd.jupyter.widget-view+json": {
       "model_id": "2bc8967907624a4497be60ac9cd2cb19",
       "version_major": 2,
       "version_minor": 0
      },
      "text/plain": [
       "Upload 300 LFS files:   0%|          | 0/300 [00:00<?, ?it/s]"
      ]
     },
     "metadata": {},
     "output_type": "display_data"
    },
    {
     "data": {
      "application/vnd.jupyter.widget-view+json": {
       "model_id": "618aa34226e347889789085824c03ec4",
       "version_major": 2,
       "version_minor": 0
      },
      "text/plain": [
       "episode_000002.parquet:   0%|          | 0.00/29.5k [00:00<?, ?B/s]"
      ]
     },
     "metadata": {},
     "output_type": "display_data"
    },
    {
     "data": {
      "application/vnd.jupyter.widget-view+json": {
       "model_id": "6b0410c54b0a47ba9640e1637e2b5cb8",
       "version_major": 2,
       "version_minor": 0
      },
      "text/plain": [
       "episode_000000.parquet:   0%|          | 0.00/31.2k [00:00<?, ?B/s]"
      ]
     },
     "metadata": {},
     "output_type": "display_data"
    },
    {
     "data": {
      "application/vnd.jupyter.widget-view+json": {
       "model_id": "8ea7122b1450448ebaea2244eab1e345",
       "version_major": 2,
       "version_minor": 0
      },
      "text/plain": [
       "episode_000004.parquet:   0%|          | 0.00/31.8k [00:00<?, ?B/s]"
      ]
     },
     "metadata": {},
     "output_type": "display_data"
    },
    {
     "data": {
      "application/vnd.jupyter.widget-view+json": {
       "model_id": "b5311dd8e6564757bc036324043c0f70",
       "version_major": 2,
       "version_minor": 0
      },
      "text/plain": [
       "episode_000005.parquet:   0%|          | 0.00/29.7k [00:00<?, ?B/s]"
      ]
     },
     "metadata": {},
     "output_type": "display_data"
    },
    {
     "data": {
      "application/vnd.jupyter.widget-view+json": {
       "model_id": "26a2c3a11a414ab29d749ceb7510ce83",
       "version_major": 2,
       "version_minor": 0
      },
      "text/plain": [
       "episode_000006.parquet:   0%|          | 0.00/30.2k [00:00<?, ?B/s]"
      ]
     },
     "metadata": {},
     "output_type": "display_data"
    },
    {
     "data": {
      "application/vnd.jupyter.widget-view+json": {
       "model_id": "971f594d134448108610f9770f20055b",
       "version_major": 2,
       "version_minor": 0
      },
      "text/plain": [
       "episode_000007.parquet:   0%|          | 0.00/32.1k [00:00<?, ?B/s]"
      ]
     },
     "metadata": {},
     "output_type": "display_data"
    },
    {
     "data": {
      "application/vnd.jupyter.widget-view+json": {
       "model_id": "16eead8aa34c421db74dbeeabea899c2",
       "version_major": 2,
       "version_minor": 0
      },
      "text/plain": [
       "episode_000008.parquet:   0%|          | 0.00/29.7k [00:00<?, ?B/s]"
      ]
     },
     "metadata": {},
     "output_type": "display_data"
    },
    {
     "data": {
      "application/vnd.jupyter.widget-view+json": {
       "model_id": "50163b789df04b1bb7b077b6193c71ae",
       "version_major": 2,
       "version_minor": 0
      },
      "text/plain": [
       "episode_000009.parquet:   0%|          | 0.00/33.4k [00:00<?, ?B/s]"
      ]
     },
     "metadata": {},
     "output_type": "display_data"
    },
    {
     "data": {
      "application/vnd.jupyter.widget-view+json": {
       "model_id": "52b3133ee0bc4ec19e04a47280a52c87",
       "version_major": 2,
       "version_minor": 0
      },
      "text/plain": [
       "episode_000010.parquet:   0%|          | 0.00/32.3k [00:00<?, ?B/s]"
      ]
     },
     "metadata": {},
     "output_type": "display_data"
    },
    {
     "data": {
      "application/vnd.jupyter.widget-view+json": {
       "model_id": "4c29d4141e6247809b2d2aac006a0fe9",
       "version_major": 2,
       "version_minor": 0
      },
      "text/plain": [
       "episode_000011.parquet:   0%|          | 0.00/30.2k [00:00<?, ?B/s]"
      ]
     },
     "metadata": {},
     "output_type": "display_data"
    },
    {
     "data": {
      "application/vnd.jupyter.widget-view+json": {
       "model_id": "d9bfdd744cf341bc8cf302d492183f0e",
       "version_major": 2,
       "version_minor": 0
      },
      "text/plain": [
       "episode_000012.parquet:   0%|          | 0.00/31.2k [00:00<?, ?B/s]"
      ]
     },
     "metadata": {},
     "output_type": "display_data"
    },
    {
     "data": {
      "application/vnd.jupyter.widget-view+json": {
       "model_id": "8877412f28c34da28abda18036d99c44",
       "version_major": 2,
       "version_minor": 0
      },
      "text/plain": [
       "episode_000013.parquet:   0%|          | 0.00/32.7k [00:00<?, ?B/s]"
      ]
     },
     "metadata": {},
     "output_type": "display_data"
    },
    {
     "data": {
      "application/vnd.jupyter.widget-view+json": {
       "model_id": "38afc26f7a1a46a78cf282ba95839e85",
       "version_major": 2,
       "version_minor": 0
      },
      "text/plain": [
       "episode_000014.parquet:   0%|          | 0.00/31.9k [00:00<?, ?B/s]"
      ]
     },
     "metadata": {},
     "output_type": "display_data"
    },
    {
     "data": {
      "application/vnd.jupyter.widget-view+json": {
       "model_id": "861df59fd7474632abb94924feb03f95",
       "version_major": 2,
       "version_minor": 0
      },
      "text/plain": [
       "episode_000015.parquet:   0%|          | 0.00/33.3k [00:00<?, ?B/s]"
      ]
     },
     "metadata": {},
     "output_type": "display_data"
    },
    {
     "data": {
      "application/vnd.jupyter.widget-view+json": {
       "model_id": "4e76a2d05c994c1c853b7e8404047d99",
       "version_major": 2,
       "version_minor": 0
      },
      "text/plain": [
       "episode_000016.parquet:   0%|          | 0.00/35.2k [00:00<?, ?B/s]"
      ]
     },
     "metadata": {},
     "output_type": "display_data"
    },
    {
     "data": {
      "application/vnd.jupyter.widget-view+json": {
       "model_id": "910b7b29a00b42a18bafff39e219077d",
       "version_major": 2,
       "version_minor": 0
      },
      "text/plain": [
       "episode_000017.parquet:   0%|          | 0.00/30.4k [00:00<?, ?B/s]"
      ]
     },
     "metadata": {},
     "output_type": "display_data"
    },
    {
     "data": {
      "application/vnd.jupyter.widget-view+json": {
       "model_id": "cba3c12a92f14d6d86787dd965c0b281",
       "version_major": 2,
       "version_minor": 0
      },
      "text/plain": [
       "episode_000018.parquet:   0%|          | 0.00/34.1k [00:00<?, ?B/s]"
      ]
     },
     "metadata": {},
     "output_type": "display_data"
    },
    {
     "data": {
      "application/vnd.jupyter.widget-view+json": {
       "model_id": "db52cbc57cc5458fa606474e654bb10a",
       "version_major": 2,
       "version_minor": 0
      },
      "text/plain": [
       "episode_000019.parquet:   0%|          | 0.00/36.1k [00:00<?, ?B/s]"
      ]
     },
     "metadata": {},
     "output_type": "display_data"
    },
    {
     "data": {
      "application/vnd.jupyter.widget-view+json": {
       "model_id": "cfb95bcc3bd84cf699bb435edf7908fb",
       "version_major": 2,
       "version_minor": 0
      },
      "text/plain": [
       "episode_000020.parquet:   0%|          | 0.00/34.0k [00:00<?, ?B/s]"
      ]
     },
     "metadata": {},
     "output_type": "display_data"
    },
    {
     "data": {
      "application/vnd.jupyter.widget-view+json": {
       "model_id": "bc12d861ed4249f7b15d29abe8fd4f80",
       "version_major": 2,
       "version_minor": 0
      },
      "text/plain": [
       "episode_000021.parquet:   0%|          | 0.00/33.0k [00:00<?, ?B/s]"
      ]
     },
     "metadata": {},
     "output_type": "display_data"
    },
    {
     "data": {
      "application/vnd.jupyter.widget-view+json": {
       "model_id": "4a1a4e53880246dcaf6af134fe77ba68",
       "version_major": 2,
       "version_minor": 0
      },
      "text/plain": [
       "episode_000022.parquet:   0%|          | 0.00/35.8k [00:00<?, ?B/s]"
      ]
     },
     "metadata": {},
     "output_type": "display_data"
    },
    {
     "data": {
      "application/vnd.jupyter.widget-view+json": {
       "model_id": "ebf9af322db84b9bb5bec22d7b99a205",
       "version_major": 2,
       "version_minor": 0
      },
      "text/plain": [
       "episode_000023.parquet:   0%|          | 0.00/30.4k [00:00<?, ?B/s]"
      ]
     },
     "metadata": {},
     "output_type": "display_data"
    },
    {
     "data": {
      "application/vnd.jupyter.widget-view+json": {
       "model_id": "5d58476f4891450da496307158585340",
       "version_major": 2,
       "version_minor": 0
      },
      "text/plain": [
       "episode_000024.parquet:   0%|          | 0.00/32.9k [00:00<?, ?B/s]"
      ]
     },
     "metadata": {},
     "output_type": "display_data"
    },
    {
     "data": {
      "application/vnd.jupyter.widget-view+json": {
       "model_id": "987a43f0929245fb9ff01ea3a8baa0e8",
       "version_major": 2,
       "version_minor": 0
      },
      "text/plain": [
       "episode_000025.parquet:   0%|          | 0.00/28.8k [00:00<?, ?B/s]"
      ]
     },
     "metadata": {},
     "output_type": "display_data"
    },
    {
     "data": {
      "application/vnd.jupyter.widget-view+json": {
       "model_id": "b5b0a9dbc6d747938d5282e9c6528258",
       "version_major": 2,
       "version_minor": 0
      },
      "text/plain": [
       "episode_000027.parquet:   0%|          | 0.00/37.2k [00:00<?, ?B/s]"
      ]
     },
     "metadata": {},
     "output_type": "display_data"
    },
    {
     "data": {
      "application/vnd.jupyter.widget-view+json": {
       "model_id": "728af3a6ecac44c6b62ea94d41e40100",
       "version_major": 2,
       "version_minor": 0
      },
      "text/plain": [
       "episode_000026.parquet:   0%|          | 0.00/33.9k [00:00<?, ?B/s]"
      ]
     },
     "metadata": {},
     "output_type": "display_data"
    },
    {
     "data": {
      "application/vnd.jupyter.widget-view+json": {
       "model_id": "b8d8d7667cb84c37bb7be250cdcd6d5c",
       "version_major": 2,
       "version_minor": 0
      },
      "text/plain": [
       "episode_000028.parquet:   0%|          | 0.00/34.1k [00:00<?, ?B/s]"
      ]
     },
     "metadata": {},
     "output_type": "display_data"
    },
    {
     "data": {
      "application/vnd.jupyter.widget-view+json": {
       "model_id": "ad78d0c26b9549afb25f965865cac7ac",
       "version_major": 2,
       "version_minor": 0
      },
      "text/plain": [
       "episode_000029.parquet:   0%|          | 0.00/34.0k [00:00<?, ?B/s]"
      ]
     },
     "metadata": {},
     "output_type": "display_data"
    },
    {
     "data": {
      "application/vnd.jupyter.widget-view+json": {
       "model_id": "9a9833a87c5742f38d73414245fe96de",
       "version_major": 2,
       "version_minor": 0
      },
      "text/plain": [
       "episode_000031.parquet:   0%|          | 0.00/37.9k [00:00<?, ?B/s]"
      ]
     },
     "metadata": {},
     "output_type": "display_data"
    },
    {
     "data": {
      "application/vnd.jupyter.widget-view+json": {
       "model_id": "092cbf445aa94076ba7b5b2ca0fc3d2d",
       "version_major": 2,
       "version_minor": 0
      },
      "text/plain": [
       "episode_000030.parquet:   0%|          | 0.00/37.5k [00:00<?, ?B/s]"
      ]
     },
     "metadata": {},
     "output_type": "display_data"
    },
    {
     "data": {
      "application/vnd.jupyter.widget-view+json": {
       "model_id": "7ae281ad7ce04ff09ace6d32f1a815c3",
       "version_major": 2,
       "version_minor": 0
      },
      "text/plain": [
       "episode_000032.parquet:   0%|          | 0.00/36.4k [00:00<?, ?B/s]"
      ]
     },
     "metadata": {},
     "output_type": "display_data"
    },
    {
     "data": {
      "application/vnd.jupyter.widget-view+json": {
       "model_id": "0095b714cb5b4d0b93853fdfc78149bf",
       "version_major": 2,
       "version_minor": 0
      },
      "text/plain": [
       "episode_000033.parquet:   0%|          | 0.00/34.1k [00:00<?, ?B/s]"
      ]
     },
     "metadata": {},
     "output_type": "display_data"
    },
    {
     "data": {
      "application/vnd.jupyter.widget-view+json": {
       "model_id": "5db81b206a104729a59701f26fb458c9",
       "version_major": 2,
       "version_minor": 0
      },
      "text/plain": [
       "episode_000034.parquet:   0%|          | 0.00/34.0k [00:00<?, ?B/s]"
      ]
     },
     "metadata": {},
     "output_type": "display_data"
    },
    {
     "data": {
      "application/vnd.jupyter.widget-view+json": {
       "model_id": "b3c96db56b7543bf83556b4b49fe0512",
       "version_major": 2,
       "version_minor": 0
      },
      "text/plain": [
       "episode_000035.parquet:   0%|          | 0.00/37.6k [00:00<?, ?B/s]"
      ]
     },
     "metadata": {},
     "output_type": "display_data"
    },
    {
     "data": {
      "application/vnd.jupyter.widget-view+json": {
       "model_id": "a4ae820edd71496c9ca5edab34a356d3",
       "version_major": 2,
       "version_minor": 0
      },
      "text/plain": [
       "episode_000036.parquet:   0%|          | 0.00/35.2k [00:00<?, ?B/s]"
      ]
     },
     "metadata": {},
     "output_type": "display_data"
    },
    {
     "data": {
      "application/vnd.jupyter.widget-view+json": {
       "model_id": "9a52660d87664e1c8b058650d39189bb",
       "version_major": 2,
       "version_minor": 0
      },
      "text/plain": [
       "episode_000037.parquet:   0%|          | 0.00/32.5k [00:00<?, ?B/s]"
      ]
     },
     "metadata": {},
     "output_type": "display_data"
    },
    {
     "data": {
      "application/vnd.jupyter.widget-view+json": {
       "model_id": "91ee9b6503c24762ad2b1b8ad72d93cc",
       "version_major": 2,
       "version_minor": 0
      },
      "text/plain": [
       "episode_000038.parquet:   0%|          | 0.00/32.8k [00:00<?, ?B/s]"
      ]
     },
     "metadata": {},
     "output_type": "display_data"
    },
    {
     "data": {
      "application/vnd.jupyter.widget-view+json": {
       "model_id": "48c57d7a7cbd40d587d89af4131a7bf7",
       "version_major": 2,
       "version_minor": 0
      },
      "text/plain": [
       "episode_000039.parquet:   0%|          | 0.00/33.1k [00:00<?, ?B/s]"
      ]
     },
     "metadata": {},
     "output_type": "display_data"
    },
    {
     "data": {
      "application/vnd.jupyter.widget-view+json": {
       "model_id": "b70282821af94c1f8df46b1c952d1882",
       "version_major": 2,
       "version_minor": 0
      },
      "text/plain": [
       "episode_000040.parquet:   0%|          | 0.00/38.3k [00:00<?, ?B/s]"
      ]
     },
     "metadata": {},
     "output_type": "display_data"
    },
    {
     "data": {
      "application/vnd.jupyter.widget-view+json": {
       "model_id": "87be28134a934b40b662cf61aa40fffa",
       "version_major": 2,
       "version_minor": 0
      },
      "text/plain": [
       "episode_000041.parquet:   0%|          | 0.00/39.7k [00:00<?, ?B/s]"
      ]
     },
     "metadata": {},
     "output_type": "display_data"
    },
    {
     "data": {
      "application/vnd.jupyter.widget-view+json": {
       "model_id": "0c8a145f3705458fa49a06cfd0aba776",
       "version_major": 2,
       "version_minor": 0
      },
      "text/plain": [
       "episode_000042.parquet:   0%|          | 0.00/31.7k [00:00<?, ?B/s]"
      ]
     },
     "metadata": {},
     "output_type": "display_data"
    },
    {
     "data": {
      "application/vnd.jupyter.widget-view+json": {
       "model_id": "6341ef1f897b4f1391f60a7d79779abc",
       "version_major": 2,
       "version_minor": 0
      },
      "text/plain": [
       "episode_000043.parquet:   0%|          | 0.00/33.7k [00:00<?, ?B/s]"
      ]
     },
     "metadata": {},
     "output_type": "display_data"
    },
    {
     "data": {
      "application/vnd.jupyter.widget-view+json": {
       "model_id": "b0131622849e47c19826dad0f981723b",
       "version_major": 2,
       "version_minor": 0
      },
      "text/plain": [
       "episode_000044.parquet:   0%|          | 0.00/34.7k [00:00<?, ?B/s]"
      ]
     },
     "metadata": {},
     "output_type": "display_data"
    },
    {
     "data": {
      "application/vnd.jupyter.widget-view+json": {
       "model_id": "a387cb5248b34d1ca27e5a021b0fa700",
       "version_major": 2,
       "version_minor": 0
      },
      "text/plain": [
       "episode_000045.parquet:   0%|          | 0.00/31.6k [00:00<?, ?B/s]"
      ]
     },
     "metadata": {},
     "output_type": "display_data"
    },
    {
     "data": {
      "application/vnd.jupyter.widget-view+json": {
       "model_id": "b7e39dda23204f3093e9497afcb71c93",
       "version_major": 2,
       "version_minor": 0
      },
      "text/plain": [
       "episode_000046.parquet:   0%|          | 0.00/36.2k [00:00<?, ?B/s]"
      ]
     },
     "metadata": {},
     "output_type": "display_data"
    },
    {
     "data": {
      "application/vnd.jupyter.widget-view+json": {
       "model_id": "dbe15d46b2cd4d5dbfdd3c5e3eee21cb",
       "version_major": 2,
       "version_minor": 0
      },
      "text/plain": [
       "episode_000047.parquet:   0%|          | 0.00/34.0k [00:00<?, ?B/s]"
      ]
     },
     "metadata": {},
     "output_type": "display_data"
    },
    {
     "data": {
      "application/vnd.jupyter.widget-view+json": {
       "model_id": "a8507e2bca644dd194a1b8ce9084b4ab",
       "version_major": 2,
       "version_minor": 0
      },
      "text/plain": [
       "episode_000048.parquet:   0%|          | 0.00/33.0k [00:00<?, ?B/s]"
      ]
     },
     "metadata": {},
     "output_type": "display_data"
    },
    {
     "data": {
      "application/vnd.jupyter.widget-view+json": {
       "model_id": "615ef5cb7cf84e16b9fd93b7448cbb91",
       "version_major": 2,
       "version_minor": 0
      },
      "text/plain": [
       "episode_000049.parquet:   0%|          | 0.00/40.3k [00:00<?, ?B/s]"
      ]
     },
     "metadata": {},
     "output_type": "display_data"
    },
    {
     "data": {
      "application/vnd.jupyter.widget-view+json": {
       "model_id": "5356faf22a5c4580aa39478352ae35d0",
       "version_major": 2,
       "version_minor": 0
      },
      "text/plain": [
       "episode_000050.parquet:   0%|          | 0.00/37.9k [00:00<?, ?B/s]"
      ]
     },
     "metadata": {},
     "output_type": "display_data"
    },
    {
     "data": {
      "application/vnd.jupyter.widget-view+json": {
       "model_id": "0b3a82e2e9be4f7981639083eb8f957b",
       "version_major": 2,
       "version_minor": 0
      },
      "text/plain": [
       "episode_000051.parquet:   0%|          | 0.00/41.9k [00:00<?, ?B/s]"
      ]
     },
     "metadata": {},
     "output_type": "display_data"
    },
    {
     "data": {
      "application/vnd.jupyter.widget-view+json": {
       "model_id": "91dd8ec34db2466bba345fb589b6afdc",
       "version_major": 2,
       "version_minor": 0
      },
      "text/plain": [
       "episode_000052.parquet:   0%|          | 0.00/3.67k [00:00<?, ?B/s]"
      ]
     },
     "metadata": {},
     "output_type": "display_data"
    },
    {
     "data": {
      "application/vnd.jupyter.widget-view+json": {
       "model_id": "b52ddefcd14748a5abe68c53ca5ccfab",
       "version_major": 2,
       "version_minor": 0
      },
      "text/plain": [
       "episode_000053.parquet:   0%|          | 0.00/32.9k [00:00<?, ?B/s]"
      ]
     },
     "metadata": {},
     "output_type": "display_data"
    },
    {
     "data": {
      "application/vnd.jupyter.widget-view+json": {
       "model_id": "0e32b8f941d74422bee67865d60ede79",
       "version_major": 2,
       "version_minor": 0
      },
      "text/plain": [
       "episode_000054.parquet:   0%|          | 0.00/38.8k [00:00<?, ?B/s]"
      ]
     },
     "metadata": {},
     "output_type": "display_data"
    },
    {
     "data": {
      "application/vnd.jupyter.widget-view+json": {
       "model_id": "85b55e0cde524857a285b41b5e149a65",
       "version_major": 2,
       "version_minor": 0
      },
      "text/plain": [
       "episode_000055.parquet:   0%|          | 0.00/36.0k [00:00<?, ?B/s]"
      ]
     },
     "metadata": {},
     "output_type": "display_data"
    },
    {
     "data": {
      "application/vnd.jupyter.widget-view+json": {
       "model_id": "375e4583bb954ad28aef4017ae755126",
       "version_major": 2,
       "version_minor": 0
      },
      "text/plain": [
       "episode_000056.parquet:   0%|          | 0.00/35.0k [00:00<?, ?B/s]"
      ]
     },
     "metadata": {},
     "output_type": "display_data"
    },
    {
     "data": {
      "application/vnd.jupyter.widget-view+json": {
       "model_id": "87a8d920f26e442db546f35afaf7b3f6",
       "version_major": 2,
       "version_minor": 0
      },
      "text/plain": [
       "episode_000057.parquet:   0%|          | 0.00/41.0k [00:00<?, ?B/s]"
      ]
     },
     "metadata": {},
     "output_type": "display_data"
    },
    {
     "data": {
      "application/vnd.jupyter.widget-view+json": {
       "model_id": "4f7933c6ee57499d9bb0e07505437291",
       "version_major": 2,
       "version_minor": 0
      },
      "text/plain": [
       "episode_000058.parquet:   0%|          | 0.00/3.67k [00:00<?, ?B/s]"
      ]
     },
     "metadata": {},
     "output_type": "display_data"
    },
    {
     "data": {
      "application/vnd.jupyter.widget-view+json": {
       "model_id": "4d57810c0886469093091649dff164e1",
       "version_major": 2,
       "version_minor": 0
      },
      "text/plain": [
       "episode_000059.parquet:   0%|          | 0.00/41.8k [00:00<?, ?B/s]"
      ]
     },
     "metadata": {},
     "output_type": "display_data"
    },
    {
     "data": {
      "application/vnd.jupyter.widget-view+json": {
       "model_id": "2add98c791c540dfacfa12b9bed021c7",
       "version_major": 2,
       "version_minor": 0
      },
      "text/plain": [
       "episode_000000.mp4:   0%|          | 0.00/8.74M [00:00<?, ?B/s]"
      ]
     },
     "metadata": {},
     "output_type": "display_data"
    },
    {
     "data": {
      "application/vnd.jupyter.widget-view+json": {
       "model_id": "46cc0859803b4538ab7359d376c2abf9",
       "version_major": 2,
       "version_minor": 0
      },
      "text/plain": [
       "episode_000001.mp4:   0%|          | 0.00/7.66M [00:00<?, ?B/s]"
      ]
     },
     "metadata": {},
     "output_type": "display_data"
    },
    {
     "data": {
      "application/vnd.jupyter.widget-view+json": {
       "model_id": "ce38eb76a73d448eb932464671270c74",
       "version_major": 2,
       "version_minor": 0
      },
      "text/plain": [
       "episode_000002.mp4:   0%|          | 0.00/7.76M [00:00<?, ?B/s]"
      ]
     },
     "metadata": {},
     "output_type": "display_data"
    },
    {
     "data": {
      "application/vnd.jupyter.widget-view+json": {
       "model_id": "c1eba60210f9404f994edf80515b3b91",
       "version_major": 2,
       "version_minor": 0
      },
      "text/plain": [
       "episode_000003.mp4:   0%|          | 0.00/7.64M [00:00<?, ?B/s]"
      ]
     },
     "metadata": {},
     "output_type": "display_data"
    },
    {
     "data": {
      "application/vnd.jupyter.widget-view+json": {
       "model_id": "2fa2dda9d201480bbe6dc9797d75ef03",
       "version_major": 2,
       "version_minor": 0
      },
      "text/plain": [
       "episode_000004.mp4:   0%|          | 0.00/8.76M [00:00<?, ?B/s]"
      ]
     },
     "metadata": {},
     "output_type": "display_data"
    },
    {
     "data": {
      "application/vnd.jupyter.widget-view+json": {
       "model_id": "3e786e62227e44efa6859f5c8332af87",
       "version_major": 2,
       "version_minor": 0
      },
      "text/plain": [
       "episode_000005.mp4:   0%|          | 0.00/8.08M [00:00<?, ?B/s]"
      ]
     },
     "metadata": {},
     "output_type": "display_data"
    },
    {
     "data": {
      "application/vnd.jupyter.widget-view+json": {
       "model_id": "de24267f60614ad2bab71df51d6cd8f6",
       "version_major": 2,
       "version_minor": 0
      },
      "text/plain": [
       "episode_000006.mp4:   0%|          | 0.00/8.45M [00:00<?, ?B/s]"
      ]
     },
     "metadata": {},
     "output_type": "display_data"
    },
    {
     "data": {
      "application/vnd.jupyter.widget-view+json": {
       "model_id": "9b26b37b089147a6999fca8fe0c48668",
       "version_major": 2,
       "version_minor": 0
      },
      "text/plain": [
       "episode_000007.mp4:   0%|          | 0.00/8.56M [00:00<?, ?B/s]"
      ]
     },
     "metadata": {},
     "output_type": "display_data"
    },
    {
     "data": {
      "application/vnd.jupyter.widget-view+json": {
       "model_id": "f4fa534e47a44d9292c6257d03458759",
       "version_major": 2,
       "version_minor": 0
      },
      "text/plain": [
       "episode_000008.mp4:   0%|          | 0.00/8.00M [00:00<?, ?B/s]"
      ]
     },
     "metadata": {},
     "output_type": "display_data"
    },
    {
     "data": {
      "application/vnd.jupyter.widget-view+json": {
       "model_id": "f849a88ea556419bbd50b45e057c86c8",
       "version_major": 2,
       "version_minor": 0
      },
      "text/plain": [
       "episode_000009.mp4:   0%|          | 0.00/9.82M [00:00<?, ?B/s]"
      ]
     },
     "metadata": {},
     "output_type": "display_data"
    },
    {
     "data": {
      "application/vnd.jupyter.widget-view+json": {
       "model_id": "84a47f3096a0498f869cfcfb7e8d1507",
       "version_major": 2,
       "version_minor": 0
      },
      "text/plain": [
       "episode_000010.mp4:   0%|          | 0.00/8.72M [00:00<?, ?B/s]"
      ]
     },
     "metadata": {},
     "output_type": "display_data"
    },
    {
     "data": {
      "application/vnd.jupyter.widget-view+json": {
       "model_id": "551c35373ec94e839cdc11ead9beeb87",
       "version_major": 2,
       "version_minor": 0
      },
      "text/plain": [
       "episode_000011.mp4:   0%|          | 0.00/8.06M [00:00<?, ?B/s]"
      ]
     },
     "metadata": {},
     "output_type": "display_data"
    },
    {
     "data": {
      "application/vnd.jupyter.widget-view+json": {
       "model_id": "f070b92854ff4cc9bd65f65b419b7eff",
       "version_major": 2,
       "version_minor": 0
      },
      "text/plain": [
       "episode_000012.mp4:   0%|          | 0.00/8.92M [00:00<?, ?B/s]"
      ]
     },
     "metadata": {},
     "output_type": "display_data"
    },
    {
     "data": {
      "application/vnd.jupyter.widget-view+json": {
       "model_id": "2d555cf3718241c5bea6c03479f20567",
       "version_major": 2,
       "version_minor": 0
      },
      "text/plain": [
       "episode_000013.mp4:   0%|          | 0.00/9.20M [00:00<?, ?B/s]"
      ]
     },
     "metadata": {},
     "output_type": "display_data"
    },
    {
     "data": {
      "application/vnd.jupyter.widget-view+json": {
       "model_id": "2785891cc008486fbe7376ceb946de0b",
       "version_major": 2,
       "version_minor": 0
      },
      "text/plain": [
       "episode_000014.mp4:   0%|          | 0.00/8.60M [00:00<?, ?B/s]"
      ]
     },
     "metadata": {},
     "output_type": "display_data"
    },
    {
     "data": {
      "application/vnd.jupyter.widget-view+json": {
       "model_id": "bd67c17d33db4075a546583c6f8773bc",
       "version_major": 2,
       "version_minor": 0
      },
      "text/plain": [
       "episode_000015.mp4:   0%|          | 0.00/9.01M [00:00<?, ?B/s]"
      ]
     },
     "metadata": {},
     "output_type": "display_data"
    },
    {
     "data": {
      "application/vnd.jupyter.widget-view+json": {
       "model_id": "0bc3745a6dbd4e05a61624f479118ac4",
       "version_major": 2,
       "version_minor": 0
      },
      "text/plain": [
       "episode_000016.mp4:   0%|          | 0.00/9.94M [00:00<?, ?B/s]"
      ]
     },
     "metadata": {},
     "output_type": "display_data"
    },
    {
     "data": {
      "application/vnd.jupyter.widget-view+json": {
       "model_id": "4d65a16e48404638bbacf479797b54e9",
       "version_major": 2,
       "version_minor": 0
      },
      "text/plain": [
       "episode_000017.mp4:   0%|          | 0.00/8.24M [00:00<?, ?B/s]"
      ]
     },
     "metadata": {},
     "output_type": "display_data"
    },
    {
     "data": {
      "application/vnd.jupyter.widget-view+json": {
       "model_id": "a438ac6cf21348a5ae89dc89323108ce",
       "version_major": 2,
       "version_minor": 0
      },
      "text/plain": [
       "episode_000018.mp4:   0%|          | 0.00/9.65M [00:00<?, ?B/s]"
      ]
     },
     "metadata": {},
     "output_type": "display_data"
    },
    {
     "data": {
      "application/vnd.jupyter.widget-view+json": {
       "model_id": "0b68164b50c4483ea85d34c28a141808",
       "version_major": 2,
       "version_minor": 0
      },
      "text/plain": [
       "episode_000019.mp4:   0%|          | 0.00/10.4M [00:00<?, ?B/s]"
      ]
     },
     "metadata": {},
     "output_type": "display_data"
    },
    {
     "data": {
      "application/vnd.jupyter.widget-view+json": {
       "model_id": "e691d335b8f74cf9b39fad45a3c1afd8",
       "version_major": 2,
       "version_minor": 0
      },
      "text/plain": [
       "episode_000020.mp4:   0%|          | 0.00/9.57M [00:00<?, ?B/s]"
      ]
     },
     "metadata": {},
     "output_type": "display_data"
    },
    {
     "data": {
      "application/vnd.jupyter.widget-view+json": {
       "model_id": "b62b078d7b6d4acc8712fc7408013458",
       "version_major": 2,
       "version_minor": 0
      },
      "text/plain": [
       "episode_000021.mp4:   0%|          | 0.00/9.08M [00:00<?, ?B/s]"
      ]
     },
     "metadata": {},
     "output_type": "display_data"
    },
    {
     "data": {
      "application/vnd.jupyter.widget-view+json": {
       "model_id": "fe15da281d844d6d94b3635298d02198",
       "version_major": 2,
       "version_minor": 0
      },
      "text/plain": [
       "episode_000022.mp4:   0%|          | 0.00/10.5M [00:00<?, ?B/s]"
      ]
     },
     "metadata": {},
     "output_type": "display_data"
    },
    {
     "data": {
      "application/vnd.jupyter.widget-view+json": {
       "model_id": "0ff31a38237d4caf9fdb44868fa592d0",
       "version_major": 2,
       "version_minor": 0
      },
      "text/plain": [
       "episode_000023.mp4:   0%|          | 0.00/8.83M [00:00<?, ?B/s]"
      ]
     },
     "metadata": {},
     "output_type": "display_data"
    },
    {
     "data": {
      "application/vnd.jupyter.widget-view+json": {
       "model_id": "1b073f3e53d84fcc9d4c9e3d899c3384",
       "version_major": 2,
       "version_minor": 0
      },
      "text/plain": [
       "episode_000024.mp4:   0%|          | 0.00/9.23M [00:00<?, ?B/s]"
      ]
     },
     "metadata": {},
     "output_type": "display_data"
    },
    {
     "data": {
      "application/vnd.jupyter.widget-view+json": {
       "model_id": "96e9f57139fe46308ecaf5f60ba38e57",
       "version_major": 2,
       "version_minor": 0
      },
      "text/plain": [
       "episode_000025.mp4:   0%|          | 0.00/8.06M [00:00<?, ?B/s]"
      ]
     },
     "metadata": {},
     "output_type": "display_data"
    },
    {
     "data": {
      "application/vnd.jupyter.widget-view+json": {
       "model_id": "6d6ef8657fb0483c89c96311fad3cf21",
       "version_major": 2,
       "version_minor": 0
      },
      "text/plain": [
       "episode_000026.mp4:   0%|          | 0.00/9.64M [00:00<?, ?B/s]"
      ]
     },
     "metadata": {},
     "output_type": "display_data"
    },
    {
     "data": {
      "application/vnd.jupyter.widget-view+json": {
       "model_id": "a072048c61d14fc9801a2ebf7b9c0dd9",
       "version_major": 2,
       "version_minor": 0
      },
      "text/plain": [
       "episode_000027.mp4:   0%|          | 0.00/10.9M [00:00<?, ?B/s]"
      ]
     },
     "metadata": {},
     "output_type": "display_data"
    },
    {
     "data": {
      "application/vnd.jupyter.widget-view+json": {
       "model_id": "30d7e6d8d3d74b52a7d81afd05d62f04",
       "version_major": 2,
       "version_minor": 0
      },
      "text/plain": [
       "episode_000028.mp4:   0%|          | 0.00/9.69M [00:00<?, ?B/s]"
      ]
     },
     "metadata": {},
     "output_type": "display_data"
    },
    {
     "data": {
      "application/vnd.jupyter.widget-view+json": {
       "model_id": "83dfa43306d4472eb9d24dd23c6739aa",
       "version_major": 2,
       "version_minor": 0
      },
      "text/plain": [
       "episode_000029.mp4:   0%|          | 0.00/9.36M [00:00<?, ?B/s]"
      ]
     },
     "metadata": {},
     "output_type": "display_data"
    },
    {
     "data": {
      "application/vnd.jupyter.widget-view+json": {
       "model_id": "8e0b2ffe8f4e4eff87f8c2c7621edbc1",
       "version_major": 2,
       "version_minor": 0
      },
      "text/plain": [
       "episode_000030.mp4:   0%|          | 0.00/10.8M [00:00<?, ?B/s]"
      ]
     },
     "metadata": {},
     "output_type": "display_data"
    },
    {
     "data": {
      "application/vnd.jupyter.widget-view+json": {
       "model_id": "de1c978032da403a92920339112fc107",
       "version_major": 2,
       "version_minor": 0
      },
      "text/plain": [
       "episode_000031.mp4:   0%|          | 0.00/11.2M [00:00<?, ?B/s]"
      ]
     },
     "metadata": {},
     "output_type": "display_data"
    },
    {
     "data": {
      "application/vnd.jupyter.widget-view+json": {
       "model_id": "3600141fdba74f1bbf8fc21f80c5ee36",
       "version_major": 2,
       "version_minor": 0
      },
      "text/plain": [
       "episode_000032.mp4:   0%|          | 0.00/10.5M [00:00<?, ?B/s]"
      ]
     },
     "metadata": {},
     "output_type": "display_data"
    },
    {
     "data": {
      "application/vnd.jupyter.widget-view+json": {
       "model_id": "d8de3c7f34044721a456975cdf788c79",
       "version_major": 2,
       "version_minor": 0
      },
      "text/plain": [
       "episode_000033.mp4:   0%|          | 0.00/9.53M [00:00<?, ?B/s]"
      ]
     },
     "metadata": {},
     "output_type": "display_data"
    },
    {
     "data": {
      "application/vnd.jupyter.widget-view+json": {
       "model_id": "a4e235da97704fbaad35f0229e3f0168",
       "version_major": 2,
       "version_minor": 0
      },
      "text/plain": [
       "episode_000034.mp4:   0%|          | 0.00/9.90M [00:00<?, ?B/s]"
      ]
     },
     "metadata": {},
     "output_type": "display_data"
    },
    {
     "data": {
      "application/vnd.jupyter.widget-view+json": {
       "model_id": "ab81a69e48134672887e88a217c66c38",
       "version_major": 2,
       "version_minor": 0
      },
      "text/plain": [
       "episode_000035.mp4:   0%|          | 0.00/10.7M [00:00<?, ?B/s]"
      ]
     },
     "metadata": {},
     "output_type": "display_data"
    },
    {
     "data": {
      "application/vnd.jupyter.widget-view+json": {
       "model_id": "1cc0a7689bb7403295de6806d547861b",
       "version_major": 2,
       "version_minor": 0
      },
      "text/plain": [
       "episode_000036.mp4:   0%|          | 0.00/9.84M [00:00<?, ?B/s]"
      ]
     },
     "metadata": {},
     "output_type": "display_data"
    },
    {
     "data": {
      "application/vnd.jupyter.widget-view+json": {
       "model_id": "bb24f4303e62491faf803f17712d3a4a",
       "version_major": 2,
       "version_minor": 0
      },
      "text/plain": [
       "episode_000037.mp4:   0%|          | 0.00/9.03M [00:00<?, ?B/s]"
      ]
     },
     "metadata": {},
     "output_type": "display_data"
    },
    {
     "data": {
      "application/vnd.jupyter.widget-view+json": {
       "model_id": "f010f041cf18421699ac6a32be7374ca",
       "version_major": 2,
       "version_minor": 0
      },
      "text/plain": [
       "episode_000038.mp4:   0%|          | 0.00/9.19M [00:00<?, ?B/s]"
      ]
     },
     "metadata": {},
     "output_type": "display_data"
    },
    {
     "data": {
      "application/vnd.jupyter.widget-view+json": {
       "model_id": "b225249c60ef4de8bbb5ad5bcb026b5a",
       "version_major": 2,
       "version_minor": 0
      },
      "text/plain": [
       "episode_000039.mp4:   0%|          | 0.00/9.05M [00:00<?, ?B/s]"
      ]
     },
     "metadata": {},
     "output_type": "display_data"
    },
    {
     "data": {
      "application/vnd.jupyter.widget-view+json": {
       "model_id": "69f8993f1e7742f992017598734eaabe",
       "version_major": 2,
       "version_minor": 0
      },
      "text/plain": [
       "episode_000040.mp4:   0%|          | 0.00/10.9M [00:00<?, ?B/s]"
      ]
     },
     "metadata": {},
     "output_type": "display_data"
    },
    {
     "data": {
      "application/vnd.jupyter.widget-view+json": {
       "model_id": "b1208102cebd403594c30a92ecafa8ef",
       "version_major": 2,
       "version_minor": 0
      },
      "text/plain": [
       "episode_000041.mp4:   0%|          | 0.00/12.0M [00:00<?, ?B/s]"
      ]
     },
     "metadata": {},
     "output_type": "display_data"
    },
    {
     "data": {
      "application/vnd.jupyter.widget-view+json": {
       "model_id": "f10faf1c15f34da9b85676aa67dc7b8c",
       "version_major": 2,
       "version_minor": 0
      },
      "text/plain": [
       "episode_000042.mp4:   0%|          | 0.00/8.32M [00:00<?, ?B/s]"
      ]
     },
     "metadata": {},
     "output_type": "display_data"
    },
    {
     "data": {
      "application/vnd.jupyter.widget-view+json": {
       "model_id": "d47e11ec8fcc4f358b320bcd4ecc8d9d",
       "version_major": 2,
       "version_minor": 0
      },
      "text/plain": [
       "episode_000043.mp4:   0%|          | 0.00/9.54M [00:00<?, ?B/s]"
      ]
     },
     "metadata": {},
     "output_type": "display_data"
    },
    {
     "data": {
      "application/vnd.jupyter.widget-view+json": {
       "model_id": "af27dd7ffaef4a70bfa50db5133ae696",
       "version_major": 2,
       "version_minor": 0
      },
      "text/plain": [
       "episode_000044.mp4:   0%|          | 0.00/9.97M [00:00<?, ?B/s]"
      ]
     },
     "metadata": {},
     "output_type": "display_data"
    },
    {
     "data": {
      "application/vnd.jupyter.widget-view+json": {
       "model_id": "f22f2f63b69b418f8e132ecf91096e95",
       "version_major": 2,
       "version_minor": 0
      },
      "text/plain": [
       "episode_000045.mp4:   0%|          | 0.00/8.59M [00:00<?, ?B/s]"
      ]
     },
     "metadata": {},
     "output_type": "display_data"
    },
    {
     "data": {
      "application/vnd.jupyter.widget-view+json": {
       "model_id": "0237a69b22d641d5a56c0f8dfd7cf6a6",
       "version_major": 2,
       "version_minor": 0
      },
      "text/plain": [
       "episode_000046.mp4:   0%|          | 0.00/10.6M [00:00<?, ?B/s]"
      ]
     },
     "metadata": {},
     "output_type": "display_data"
    },
    {
     "data": {
      "application/vnd.jupyter.widget-view+json": {
       "model_id": "7cc5271fba4045eeb14ce00bb3fedac3",
       "version_major": 2,
       "version_minor": 0
      },
      "text/plain": [
       "episode_000047.mp4:   0%|          | 0.00/9.15M [00:00<?, ?B/s]"
      ]
     },
     "metadata": {},
     "output_type": "display_data"
    },
    {
     "data": {
      "application/vnd.jupyter.widget-view+json": {
       "model_id": "5eb92a2e8d884c92824fe8becfa9a276",
       "version_major": 2,
       "version_minor": 0
      },
      "text/plain": [
       "episode_000048.mp4:   0%|          | 0.00/9.35M [00:00<?, ?B/s]"
      ]
     },
     "metadata": {},
     "output_type": "display_data"
    },
    {
     "data": {
      "application/vnd.jupyter.widget-view+json": {
       "model_id": "e98477f5aaea49c991439b4046281e13",
       "version_major": 2,
       "version_minor": 0
      },
      "text/plain": [
       "episode_000049.mp4:   0%|          | 0.00/11.9M [00:00<?, ?B/s]"
      ]
     },
     "metadata": {},
     "output_type": "display_data"
    },
    {
     "data": {
      "application/vnd.jupyter.widget-view+json": {
       "model_id": "758a2ac086044beb9900734bdf7d9b28",
       "version_major": 2,
       "version_minor": 0
      },
      "text/plain": [
       "episode_000050.mp4:   0%|          | 0.00/11.0M [00:00<?, ?B/s]"
      ]
     },
     "metadata": {},
     "output_type": "display_data"
    },
    {
     "data": {
      "application/vnd.jupyter.widget-view+json": {
       "model_id": "18703f065357439e90f26e96ee203800",
       "version_major": 2,
       "version_minor": 0
      },
      "text/plain": [
       "episode_000051.mp4:   0%|          | 0.00/12.2M [00:00<?, ?B/s]"
      ]
     },
     "metadata": {},
     "output_type": "display_data"
    },
    {
     "data": {
      "application/vnd.jupyter.widget-view+json": {
       "model_id": "c68b993324b44f8b9e84ac7a32f52964",
       "version_major": 2,
       "version_minor": 0
      },
      "text/plain": [
       "episode_000052.mp4:   0%|          | 0.00/17.4k [00:00<?, ?B/s]"
      ]
     },
     "metadata": {},
     "output_type": "display_data"
    },
    {
     "data": {
      "application/vnd.jupyter.widget-view+json": {
       "model_id": "9ccb7bd0bb154b3f9daf5aeeb0cb0723",
       "version_major": 2,
       "version_minor": 0
      },
      "text/plain": [
       "episode_000053.mp4:   0%|          | 0.00/9.50M [00:00<?, ?B/s]"
      ]
     },
     "metadata": {},
     "output_type": "display_data"
    },
    {
     "data": {
      "application/vnd.jupyter.widget-view+json": {
       "model_id": "210109ea29984fbda6528a537a3a80b4",
       "version_major": 2,
       "version_minor": 0
      },
      "text/plain": [
       "episode_000054.mp4:   0%|          | 0.00/11.2M [00:00<?, ?B/s]"
      ]
     },
     "metadata": {},
     "output_type": "display_data"
    },
    {
     "data": {
      "application/vnd.jupyter.widget-view+json": {
       "model_id": "2d4c44d832614262bcf81e239e3b4cc2",
       "version_major": 2,
       "version_minor": 0
      },
      "text/plain": [
       "episode_000055.mp4:   0%|          | 0.00/10.6M [00:00<?, ?B/s]"
      ]
     },
     "metadata": {},
     "output_type": "display_data"
    },
    {
     "data": {
      "application/vnd.jupyter.widget-view+json": {
       "model_id": "7ddd1ad6a97f45d5ba6256ec15c0ad54",
       "version_major": 2,
       "version_minor": 0
      },
      "text/plain": [
       "episode_000056.mp4:   0%|          | 0.00/9.95M [00:00<?, ?B/s]"
      ]
     },
     "metadata": {},
     "output_type": "display_data"
    },
    {
     "data": {
      "application/vnd.jupyter.widget-view+json": {
       "model_id": "ccc4b46b07b548208acbdd2811ae351c",
       "version_major": 2,
       "version_minor": 0
      },
      "text/plain": [
       "episode_000057.mp4:   0%|          | 0.00/12.2M [00:00<?, ?B/s]"
      ]
     },
     "metadata": {},
     "output_type": "display_data"
    },
    {
     "data": {
      "application/vnd.jupyter.widget-view+json": {
       "model_id": "6dde8cb637b841e3992510c4dc13cb91",
       "version_major": 2,
       "version_minor": 0
      },
      "text/plain": [
       "episode_000058.mp4:   0%|          | 0.00/17.5k [00:00<?, ?B/s]"
      ]
     },
     "metadata": {},
     "output_type": "display_data"
    },
    {
     "data": {
      "application/vnd.jupyter.widget-view+json": {
       "model_id": "8afde673cefd4bf8a136f2769d71baec",
       "version_major": 2,
       "version_minor": 0
      },
      "text/plain": [
       "episode_000059.mp4:   0%|          | 0.00/12.2M [00:00<?, ?B/s]"
      ]
     },
     "metadata": {},
     "output_type": "display_data"
    },
    {
     "data": {
      "application/vnd.jupyter.widget-view+json": {
       "model_id": "316e959a3a1c483bbd9fffe3297ea41a",
       "version_major": 2,
       "version_minor": 0
      },
      "text/plain": [
       "episode_000000.mp4:   0%|          | 0.00/5.34M [00:00<?, ?B/s]"
      ]
     },
     "metadata": {},
     "output_type": "display_data"
    },
    {
     "data": {
      "application/vnd.jupyter.widget-view+json": {
       "model_id": "4e3bd3e7ae5747cc98a19ac265bae347",
       "version_major": 2,
       "version_minor": 0
      },
      "text/plain": [
       "episode_000001.mp4:   0%|          | 0.00/5.00M [00:00<?, ?B/s]"
      ]
     },
     "metadata": {},
     "output_type": "display_data"
    },
    {
     "data": {
      "application/vnd.jupyter.widget-view+json": {
       "model_id": "28f1f052e44a44df82704e74c3205868",
       "version_major": 2,
       "version_minor": 0
      },
      "text/plain": [
       "episode_000002.mp4:   0%|          | 0.00/5.07M [00:00<?, ?B/s]"
      ]
     },
     "metadata": {},
     "output_type": "display_data"
    },
    {
     "data": {
      "application/vnd.jupyter.widget-view+json": {
       "model_id": "88c4652357ab4b8a8b015ad3f659db83",
       "version_major": 2,
       "version_minor": 0
      },
      "text/plain": [
       "episode_000003.mp4:   0%|          | 0.00/5.02M [00:00<?, ?B/s]"
      ]
     },
     "metadata": {},
     "output_type": "display_data"
    },
    {
     "data": {
      "application/vnd.jupyter.widget-view+json": {
       "model_id": "bbcfba6a089e403ca6274ff4e4885918",
       "version_major": 2,
       "version_minor": 0
      },
      "text/plain": [
       "episode_000005.mp4:   0%|          | 0.00/5.22M [00:00<?, ?B/s]"
      ]
     },
     "metadata": {},
     "output_type": "display_data"
    },
    {
     "data": {
      "application/vnd.jupyter.widget-view+json": {
       "model_id": "312b81ca028d46ec90ada0b223d0252e",
       "version_major": 2,
       "version_minor": 0
      },
      "text/plain": [
       "episode_000004.mp4:   0%|          | 0.00/5.93M [00:00<?, ?B/s]"
      ]
     },
     "metadata": {},
     "output_type": "display_data"
    },
    {
     "data": {
      "application/vnd.jupyter.widget-view+json": {
       "model_id": "cf8506483f2b487b85aa1b4a9ee47b4a",
       "version_major": 2,
       "version_minor": 0
      },
      "text/plain": [
       "episode_000006.mp4:   0%|          | 0.00/5.96M [00:00<?, ?B/s]"
      ]
     },
     "metadata": {},
     "output_type": "display_data"
    },
    {
     "data": {
      "application/vnd.jupyter.widget-view+json": {
       "model_id": "9131029a97ea4950a4de09fb5b7a14a4",
       "version_major": 2,
       "version_minor": 0
      },
      "text/plain": [
       "episode_000007.mp4:   0%|          | 0.00/5.15M [00:00<?, ?B/s]"
      ]
     },
     "metadata": {},
     "output_type": "display_data"
    },
    {
     "data": {
      "application/vnd.jupyter.widget-view+json": {
       "model_id": "331ca821c20946deaf7345eefee8d989",
       "version_major": 2,
       "version_minor": 0
      },
      "text/plain": [
       "episode_000008.mp4:   0%|          | 0.00/4.93M [00:00<?, ?B/s]"
      ]
     },
     "metadata": {},
     "output_type": "display_data"
    },
    {
     "data": {
      "application/vnd.jupyter.widget-view+json": {
       "model_id": "2435a7f4238a4bd58eeca2daa7c111da",
       "version_major": 2,
       "version_minor": 0
      },
      "text/plain": [
       "episode_000009.mp4:   0%|          | 0.00/5.80M [00:00<?, ?B/s]"
      ]
     },
     "metadata": {},
     "output_type": "display_data"
    },
    {
     "data": {
      "application/vnd.jupyter.widget-view+json": {
       "model_id": "5a0255c1bec04d25bcc0dd82b35b6710",
       "version_major": 2,
       "version_minor": 0
      },
      "text/plain": [
       "episode_000010.mp4:   0%|          | 0.00/5.40M [00:00<?, ?B/s]"
      ]
     },
     "metadata": {},
     "output_type": "display_data"
    },
    {
     "data": {
      "application/vnd.jupyter.widget-view+json": {
       "model_id": "656332d807a747ccb9a8e2a7c92362d7",
       "version_major": 2,
       "version_minor": 0
      },
      "text/plain": [
       "episode_000011.mp4:   0%|          | 0.00/4.86M [00:00<?, ?B/s]"
      ]
     },
     "metadata": {},
     "output_type": "display_data"
    },
    {
     "data": {
      "application/vnd.jupyter.widget-view+json": {
       "model_id": "2d9cfa0ba9a042d5913a7667f93651f3",
       "version_major": 2,
       "version_minor": 0
      },
      "text/plain": [
       "episode_000012.mp4:   0%|          | 0.00/5.14M [00:00<?, ?B/s]"
      ]
     },
     "metadata": {},
     "output_type": "display_data"
    },
    {
     "data": {
      "application/vnd.jupyter.widget-view+json": {
       "model_id": "d4e5729f74e748dba468eaa38e7a4634",
       "version_major": 2,
       "version_minor": 0
      },
      "text/plain": [
       "episode_000013.mp4:   0%|          | 0.00/5.51M [00:00<?, ?B/s]"
      ]
     },
     "metadata": {},
     "output_type": "display_data"
    },
    {
     "data": {
      "application/vnd.jupyter.widget-view+json": {
       "model_id": "40b198a293344bf4a4d62bff9c575cb7",
       "version_major": 2,
       "version_minor": 0
      },
      "text/plain": [
       "episode_000014.mp4:   0%|          | 0.00/5.12M [00:00<?, ?B/s]"
      ]
     },
     "metadata": {},
     "output_type": "display_data"
    },
    {
     "data": {
      "application/vnd.jupyter.widget-view+json": {
       "model_id": "6eaeae63b6c142c0a283fad39c7613b6",
       "version_major": 2,
       "version_minor": 0
      },
      "text/plain": [
       "episode_000015.mp4:   0%|          | 0.00/5.48M [00:00<?, ?B/s]"
      ]
     },
     "metadata": {},
     "output_type": "display_data"
    },
    {
     "data": {
      "application/vnd.jupyter.widget-view+json": {
       "model_id": "2dd1fdbeada4492f8a70d0acd837c817",
       "version_major": 2,
       "version_minor": 0
      },
      "text/plain": [
       "episode_000016.mp4:   0%|          | 0.00/5.95M [00:00<?, ?B/s]"
      ]
     },
     "metadata": {},
     "output_type": "display_data"
    },
    {
     "data": {
      "application/vnd.jupyter.widget-view+json": {
       "model_id": "8a0c20169b3c47a2b34ae69f01cbf022",
       "version_major": 2,
       "version_minor": 0
      },
      "text/plain": [
       "episode_000017.mp4:   0%|          | 0.00/4.96M [00:00<?, ?B/s]"
      ]
     },
     "metadata": {},
     "output_type": "display_data"
    },
    {
     "data": {
      "application/vnd.jupyter.widget-view+json": {
       "model_id": "83b7533358a442d199d9d95376225c91",
       "version_major": 2,
       "version_minor": 0
      },
      "text/plain": [
       "episode_000018.mp4:   0%|          | 0.00/6.17M [00:00<?, ?B/s]"
      ]
     },
     "metadata": {},
     "output_type": "display_data"
    },
    {
     "data": {
      "application/vnd.jupyter.widget-view+json": {
       "model_id": "c0e4a580f9464b4a88fd2fdeca8a473d",
       "version_major": 2,
       "version_minor": 0
      },
      "text/plain": [
       "episode_000019.mp4:   0%|          | 0.00/6.48M [00:00<?, ?B/s]"
      ]
     },
     "metadata": {},
     "output_type": "display_data"
    },
    {
     "data": {
      "application/vnd.jupyter.widget-view+json": {
       "model_id": "b58a0cdf74b840eca89b3f6b54c1626a",
       "version_major": 2,
       "version_minor": 0
      },
      "text/plain": [
       "episode_000020.mp4:   0%|          | 0.00/5.85M [00:00<?, ?B/s]"
      ]
     },
     "metadata": {},
     "output_type": "display_data"
    },
    {
     "data": {
      "application/vnd.jupyter.widget-view+json": {
       "model_id": "4cc1cef238b74a6d8a4db0df76d795c1",
       "version_major": 2,
       "version_minor": 0
      },
      "text/plain": [
       "episode_000021.mp4:   0%|          | 0.00/5.73M [00:00<?, ?B/s]"
      ]
     },
     "metadata": {},
     "output_type": "display_data"
    },
    {
     "data": {
      "application/vnd.jupyter.widget-view+json": {
       "model_id": "cf284b3cda674aa3bcd71381ab944a7e",
       "version_major": 2,
       "version_minor": 0
      },
      "text/plain": [
       "episode_000022.mp4:   0%|          | 0.00/6.56M [00:00<?, ?B/s]"
      ]
     },
     "metadata": {},
     "output_type": "display_data"
    },
    {
     "data": {
      "application/vnd.jupyter.widget-view+json": {
       "model_id": "c492b6ae27984858bd0165a1178f8411",
       "version_major": 2,
       "version_minor": 0
      },
      "text/plain": [
       "episode_000023.mp4:   0%|          | 0.00/5.20M [00:00<?, ?B/s]"
      ]
     },
     "metadata": {},
     "output_type": "display_data"
    },
    {
     "data": {
      "application/vnd.jupyter.widget-view+json": {
       "model_id": "d716eee73da74b76b5e2e1b12951512c",
       "version_major": 2,
       "version_minor": 0
      },
      "text/plain": [
       "episode_000024.mp4:   0%|          | 0.00/5.89M [00:00<?, ?B/s]"
      ]
     },
     "metadata": {},
     "output_type": "display_data"
    },
    {
     "data": {
      "application/vnd.jupyter.widget-view+json": {
       "model_id": "e601c10bf0704c56bdfb3351f9d814b4",
       "version_major": 2,
       "version_minor": 0
      },
      "text/plain": [
       "episode_000025.mp4:   0%|          | 0.00/5.16M [00:00<?, ?B/s]"
      ]
     },
     "metadata": {},
     "output_type": "display_data"
    },
    {
     "data": {
      "application/vnd.jupyter.widget-view+json": {
       "model_id": "1c236b4c692f4ae18def39e5a9297609",
       "version_major": 2,
       "version_minor": 0
      },
      "text/plain": [
       "episode_000026.mp4:   0%|          | 0.00/5.95M [00:00<?, ?B/s]"
      ]
     },
     "metadata": {},
     "output_type": "display_data"
    },
    {
     "data": {
      "application/vnd.jupyter.widget-view+json": {
       "model_id": "dd5a4efed6c4470cbacbe6fe1346b252",
       "version_major": 2,
       "version_minor": 0
      },
      "text/plain": [
       "episode_000027.mp4:   0%|          | 0.00/6.54M [00:00<?, ?B/s]"
      ]
     },
     "metadata": {},
     "output_type": "display_data"
    },
    {
     "data": {
      "application/vnd.jupyter.widget-view+json": {
       "model_id": "d2382708432e43dca2e50675f143e6d0",
       "version_major": 2,
       "version_minor": 0
      },
      "text/plain": [
       "episode_000028.mp4:   0%|          | 0.00/6.07M [00:00<?, ?B/s]"
      ]
     },
     "metadata": {},
     "output_type": "display_data"
    },
    {
     "data": {
      "application/vnd.jupyter.widget-view+json": {
       "model_id": "9aa4c62613d44a0698923e92cd0d2d3e",
       "version_major": 2,
       "version_minor": 0
      },
      "text/plain": [
       "episode_000029.mp4:   0%|          | 0.00/6.00M [00:00<?, ?B/s]"
      ]
     },
     "metadata": {},
     "output_type": "display_data"
    },
    {
     "data": {
      "application/vnd.jupyter.widget-view+json": {
       "model_id": "df042664b5294932b6d8b2799e64abfb",
       "version_major": 2,
       "version_minor": 0
      },
      "text/plain": [
       "episode_000030.mp4:   0%|          | 0.00/6.75M [00:00<?, ?B/s]"
      ]
     },
     "metadata": {},
     "output_type": "display_data"
    },
    {
     "data": {
      "application/vnd.jupyter.widget-view+json": {
       "model_id": "1009ae57df69461cab59cc7fd8db76d8",
       "version_major": 2,
       "version_minor": 0
      },
      "text/plain": [
       "episode_000031.mp4:   0%|          | 0.00/7.67M [00:00<?, ?B/s]"
      ]
     },
     "metadata": {},
     "output_type": "display_data"
    },
    {
     "data": {
      "application/vnd.jupyter.widget-view+json": {
       "model_id": "ebc6ca20b5b843b698f6275b7d70aa3c",
       "version_major": 2,
       "version_minor": 0
      },
      "text/plain": [
       "episode_000032.mp4:   0%|          | 0.00/7.01M [00:00<?, ?B/s]"
      ]
     },
     "metadata": {},
     "output_type": "display_data"
    },
    {
     "data": {
      "application/vnd.jupyter.widget-view+json": {
       "model_id": "a82386ff81b541e7a749dbe55a547b0e",
       "version_major": 2,
       "version_minor": 0
      },
      "text/plain": [
       "episode_000033.mp4:   0%|          | 0.00/5.87M [00:00<?, ?B/s]"
      ]
     },
     "metadata": {},
     "output_type": "display_data"
    },
    {
     "data": {
      "application/vnd.jupyter.widget-view+json": {
       "model_id": "8055769046b2443c85d70b5bbaf7a28f",
       "version_major": 2,
       "version_minor": 0
      },
      "text/plain": [
       "episode_000034.mp4:   0%|          | 0.00/5.87M [00:00<?, ?B/s]"
      ]
     },
     "metadata": {},
     "output_type": "display_data"
    },
    {
     "data": {
      "application/vnd.jupyter.widget-view+json": {
       "model_id": "f89950216eee485dad64b6cba8aa415f",
       "version_major": 2,
       "version_minor": 0
      },
      "text/plain": [
       "episode_000035.mp4:   0%|          | 0.00/7.06M [00:00<?, ?B/s]"
      ]
     },
     "metadata": {},
     "output_type": "display_data"
    },
    {
     "data": {
      "application/vnd.jupyter.widget-view+json": {
       "model_id": "7974c375986043eb8dfb8ea18e8f990d",
       "version_major": 2,
       "version_minor": 0
      },
      "text/plain": [
       "episode_000036.mp4:   0%|          | 0.00/6.22M [00:00<?, ?B/s]"
      ]
     },
     "metadata": {},
     "output_type": "display_data"
    },
    {
     "data": {
      "application/vnd.jupyter.widget-view+json": {
       "model_id": "6f827327172e44cc98ac42e86747d5bf",
       "version_major": 2,
       "version_minor": 0
      },
      "text/plain": [
       "episode_000037.mp4:   0%|          | 0.00/5.43M [00:00<?, ?B/s]"
      ]
     },
     "metadata": {},
     "output_type": "display_data"
    },
    {
     "data": {
      "application/vnd.jupyter.widget-view+json": {
       "model_id": "f5e7ef8a12c34663babffe25cc98d830",
       "version_major": 2,
       "version_minor": 0
      },
      "text/plain": [
       "episode_000038.mp4:   0%|          | 0.00/5.67M [00:00<?, ?B/s]"
      ]
     },
     "metadata": {},
     "output_type": "display_data"
    },
    {
     "data": {
      "application/vnd.jupyter.widget-view+json": {
       "model_id": "1bb45226353847288b6a4ed110ffe2bd",
       "version_major": 2,
       "version_minor": 0
      },
      "text/plain": [
       "episode_000039.mp4:   0%|          | 0.00/5.95M [00:00<?, ?B/s]"
      ]
     },
     "metadata": {},
     "output_type": "display_data"
    },
    {
     "data": {
      "application/vnd.jupyter.widget-view+json": {
       "model_id": "71c405b06e334179a6ee71cdee457694",
       "version_major": 2,
       "version_minor": 0
      },
      "text/plain": [
       "episode_000040.mp4:   0%|          | 0.00/7.65M [00:00<?, ?B/s]"
      ]
     },
     "metadata": {},
     "output_type": "display_data"
    },
    {
     "data": {
      "application/vnd.jupyter.widget-view+json": {
       "model_id": "868b148cc3fb45cf87d97f919ff67544",
       "version_major": 2,
       "version_minor": 0
      },
      "text/plain": [
       "episode_000041.mp4:   0%|          | 0.00/7.72M [00:00<?, ?B/s]"
      ]
     },
     "metadata": {},
     "output_type": "display_data"
    },
    {
     "data": {
      "application/vnd.jupyter.widget-view+json": {
       "model_id": "fa1c77f10fb74fb58d5b87e3a907af1c",
       "version_major": 2,
       "version_minor": 0
      },
      "text/plain": [
       "episode_000042.mp4:   0%|          | 0.00/5.39M [00:00<?, ?B/s]"
      ]
     },
     "metadata": {},
     "output_type": "display_data"
    },
    {
     "data": {
      "application/vnd.jupyter.widget-view+json": {
       "model_id": "a8e178957ff44bf29ac269118210da04",
       "version_major": 2,
       "version_minor": 0
      },
      "text/plain": [
       "episode_000043.mp4:   0%|          | 0.00/5.90M [00:00<?, ?B/s]"
      ]
     },
     "metadata": {},
     "output_type": "display_data"
    },
    {
     "data": {
      "application/vnd.jupyter.widget-view+json": {
       "model_id": "5244cd0f69e24a77a9e5366af94b70b5",
       "version_major": 2,
       "version_minor": 0
      },
      "text/plain": [
       "episode_000044.mp4:   0%|          | 0.00/6.19M [00:00<?, ?B/s]"
      ]
     },
     "metadata": {},
     "output_type": "display_data"
    },
    {
     "data": {
      "application/vnd.jupyter.widget-view+json": {
       "model_id": "9b3b61a3a356472db58d8e5688d0c939",
       "version_major": 2,
       "version_minor": 0
      },
      "text/plain": [
       "episode_000045.mp4:   0%|          | 0.00/5.40M [00:00<?, ?B/s]"
      ]
     },
     "metadata": {},
     "output_type": "display_data"
    },
    {
     "data": {
      "application/vnd.jupyter.widget-view+json": {
       "model_id": "4e33456bc48441008ff8d9acde8830a1",
       "version_major": 2,
       "version_minor": 0
      },
      "text/plain": [
       "episode_000046.mp4:   0%|          | 0.00/6.85M [00:00<?, ?B/s]"
      ]
     },
     "metadata": {},
     "output_type": "display_data"
    },
    {
     "data": {
      "application/vnd.jupyter.widget-view+json": {
       "model_id": "a1da125b57e54c279f2a5e1ed5aea51c",
       "version_major": 2,
       "version_minor": 0
      },
      "text/plain": [
       "episode_000047.mp4:   0%|          | 0.00/5.83M [00:00<?, ?B/s]"
      ]
     },
     "metadata": {},
     "output_type": "display_data"
    },
    {
     "data": {
      "application/vnd.jupyter.widget-view+json": {
       "model_id": "95a671b00a844cdaad5c6abd7cd41fba",
       "version_major": 2,
       "version_minor": 0
      },
      "text/plain": [
       "episode_000048.mp4:   0%|          | 0.00/5.96M [00:00<?, ?B/s]"
      ]
     },
     "metadata": {},
     "output_type": "display_data"
    },
    {
     "data": {
      "application/vnd.jupyter.widget-view+json": {
       "model_id": "90544ad12f264020a8504069dbbb0133",
       "version_major": 2,
       "version_minor": 0
      },
      "text/plain": [
       "episode_000049.mp4:   0%|          | 0.00/7.95M [00:00<?, ?B/s]"
      ]
     },
     "metadata": {},
     "output_type": "display_data"
    },
    {
     "data": {
      "application/vnd.jupyter.widget-view+json": {
       "model_id": "16f5828460354a40b411d8087cfd2fd2",
       "version_major": 2,
       "version_minor": 0
      },
      "text/plain": [
       "episode_000050.mp4:   0%|          | 0.00/6.76M [00:00<?, ?B/s]"
      ]
     },
     "metadata": {},
     "output_type": "display_data"
    },
    {
     "data": {
      "application/vnd.jupyter.widget-view+json": {
       "model_id": "b038970276754e4f92a567a9af570a1b",
       "version_major": 2,
       "version_minor": 0
      },
      "text/plain": [
       "episode_000051.mp4:   0%|          | 0.00/8.13M [00:00<?, ?B/s]"
      ]
     },
     "metadata": {},
     "output_type": "display_data"
    },
    {
     "data": {
      "application/vnd.jupyter.widget-view+json": {
       "model_id": "0d46016b62a343ce89cee6abe56ea757",
       "version_major": 2,
       "version_minor": 0
      },
      "text/plain": [
       "episode_000052.mp4:   0%|          | 0.00/5.41k [00:00<?, ?B/s]"
      ]
     },
     "metadata": {},
     "output_type": "display_data"
    },
    {
     "data": {
      "application/vnd.jupyter.widget-view+json": {
       "model_id": "9004cae76c9a47a68521b534ddb08981",
       "version_major": 2,
       "version_minor": 0
      },
      "text/plain": [
       "episode_000053.mp4:   0%|          | 0.00/6.36M [00:00<?, ?B/s]"
      ]
     },
     "metadata": {},
     "output_type": "display_data"
    },
    {
     "data": {
      "application/vnd.jupyter.widget-view+json": {
       "model_id": "a5eea80075d14d3fa7ee31685867d1d7",
       "version_major": 2,
       "version_minor": 0
      },
      "text/plain": [
       "episode_000054.mp4:   0%|          | 0.00/7.63M [00:00<?, ?B/s]"
      ]
     },
     "metadata": {},
     "output_type": "display_data"
    },
    {
     "data": {
      "application/vnd.jupyter.widget-view+json": {
       "model_id": "fb0da227d3c84b6e86317da970e84775",
       "version_major": 2,
       "version_minor": 0
      },
      "text/plain": [
       "episode_000055.mp4:   0%|          | 0.00/7.01M [00:00<?, ?B/s]"
      ]
     },
     "metadata": {},
     "output_type": "display_data"
    },
    {
     "data": {
      "application/vnd.jupyter.widget-view+json": {
       "model_id": "3c82e66f6fb94f7ba481a8832e7bb5ac",
       "version_major": 2,
       "version_minor": 0
      },
      "text/plain": [
       "episode_000056.mp4:   0%|          | 0.00/6.28M [00:00<?, ?B/s]"
      ]
     },
     "metadata": {},
     "output_type": "display_data"
    },
    {
     "data": {
      "application/vnd.jupyter.widget-view+json": {
       "model_id": "a5285488d5894a5988a2187208bb0dca",
       "version_major": 2,
       "version_minor": 0
      },
      "text/plain": [
       "episode_000057.mp4:   0%|          | 0.00/8.03M [00:00<?, ?B/s]"
      ]
     },
     "metadata": {},
     "output_type": "display_data"
    },
    {
     "data": {
      "application/vnd.jupyter.widget-view+json": {
       "model_id": "2dbccb6e347d4de980ee6d929d5d493c",
       "version_major": 2,
       "version_minor": 0
      },
      "text/plain": [
       "episode_000058.mp4:   0%|          | 0.00/5.32k [00:00<?, ?B/s]"
      ]
     },
     "metadata": {},
     "output_type": "display_data"
    },
    {
     "data": {
      "application/vnd.jupyter.widget-view+json": {
       "model_id": "bedd8670d0f14a9c99c8cf551d68be14",
       "version_major": 2,
       "version_minor": 0
      },
      "text/plain": [
       "episode_000059.mp4:   0%|          | 0.00/8.24M [00:00<?, ?B/s]"
      ]
     },
     "metadata": {},
     "output_type": "display_data"
    },
    {
     "data": {
      "application/vnd.jupyter.widget-view+json": {
       "model_id": "9f61974d71a64b1581c4ab8ca6fe2cda",
       "version_major": 2,
       "version_minor": 0
      },
      "text/plain": [
       "episode_000000.mp4:   0%|          | 0.00/8.24M [00:00<?, ?B/s]"
      ]
     },
     "metadata": {},
     "output_type": "display_data"
    },
    {
     "data": {
      "application/vnd.jupyter.widget-view+json": {
       "model_id": "3f4ab1ec125b41f59921093c67f6290c",
       "version_major": 2,
       "version_minor": 0
      },
      "text/plain": [
       "episode_000001.mp4:   0%|          | 0.00/7.23M [00:00<?, ?B/s]"
      ]
     },
     "metadata": {},
     "output_type": "display_data"
    },
    {
     "data": {
      "application/vnd.jupyter.widget-view+json": {
       "model_id": "44a67850cda64b82b000cb7cb80c24d6",
       "version_major": 2,
       "version_minor": 0
      },
      "text/plain": [
       "episode_000002.mp4:   0%|          | 0.00/7.37M [00:00<?, ?B/s]"
      ]
     },
     "metadata": {},
     "output_type": "display_data"
    },
    {
     "data": {
      "application/vnd.jupyter.widget-view+json": {
       "model_id": "f49123179d21479cab4d0d60cc530ead",
       "version_major": 2,
       "version_minor": 0
      },
      "text/plain": [
       "episode_000003.mp4:   0%|          | 0.00/7.26M [00:00<?, ?B/s]"
      ]
     },
     "metadata": {},
     "output_type": "display_data"
    },
    {
     "data": {
      "application/vnd.jupyter.widget-view+json": {
       "model_id": "e75aa14230684f11bf4c672378800741",
       "version_major": 2,
       "version_minor": 0
      },
      "text/plain": [
       "episode_000004.mp4:   0%|          | 0.00/8.13M [00:00<?, ?B/s]"
      ]
     },
     "metadata": {},
     "output_type": "display_data"
    },
    {
     "data": {
      "application/vnd.jupyter.widget-view+json": {
       "model_id": "34a5f6484b0748fabfab45f1748ea4f5",
       "version_major": 2,
       "version_minor": 0
      },
      "text/plain": [
       "episode_000005.mp4:   0%|          | 0.00/7.59M [00:00<?, ?B/s]"
      ]
     },
     "metadata": {},
     "output_type": "display_data"
    },
    {
     "data": {
      "application/vnd.jupyter.widget-view+json": {
       "model_id": "fc0501e02e2544b68ac9cf01ff62ba45",
       "version_major": 2,
       "version_minor": 0
      },
      "text/plain": [
       "episode_000006.mp4:   0%|          | 0.00/7.84M [00:00<?, ?B/s]"
      ]
     },
     "metadata": {},
     "output_type": "display_data"
    },
    {
     "data": {
      "application/vnd.jupyter.widget-view+json": {
       "model_id": "3056d69fa1e547b48feff94f1da7584c",
       "version_major": 2,
       "version_minor": 0
      },
      "text/plain": [
       "episode_000007.mp4:   0%|          | 0.00/8.06M [00:00<?, ?B/s]"
      ]
     },
     "metadata": {},
     "output_type": "display_data"
    },
    {
     "data": {
      "application/vnd.jupyter.widget-view+json": {
       "model_id": "6935edf4d5074ee395d15be9a5e096df",
       "version_major": 2,
       "version_minor": 0
      },
      "text/plain": [
       "episode_000008.mp4:   0%|          | 0.00/7.57M [00:00<?, ?B/s]"
      ]
     },
     "metadata": {},
     "output_type": "display_data"
    },
    {
     "data": {
      "application/vnd.jupyter.widget-view+json": {
       "model_id": "46d848d04e154d688cc9f3a74bcecec3",
       "version_major": 2,
       "version_minor": 0
      },
      "text/plain": [
       "episode_000009.mp4:   0%|          | 0.00/9.17M [00:00<?, ?B/s]"
      ]
     },
     "metadata": {},
     "output_type": "display_data"
    },
    {
     "data": {
      "application/vnd.jupyter.widget-view+json": {
       "model_id": "d76f489be6e44bc38aaa18e48e506d04",
       "version_major": 2,
       "version_minor": 0
      },
      "text/plain": [
       "episode_000010.mp4:   0%|          | 0.00/8.17M [00:00<?, ?B/s]"
      ]
     },
     "metadata": {},
     "output_type": "display_data"
    },
    {
     "data": {
      "application/vnd.jupyter.widget-view+json": {
       "model_id": "c787628a95dc438e9a4deee841295130",
       "version_major": 2,
       "version_minor": 0
      },
      "text/plain": [
       "episode_000011.mp4:   0%|          | 0.00/7.56M [00:00<?, ?B/s]"
      ]
     },
     "metadata": {},
     "output_type": "display_data"
    },
    {
     "data": {
      "application/vnd.jupyter.widget-view+json": {
       "model_id": "129e52e1e66843f8ab11a9c908346618",
       "version_major": 2,
       "version_minor": 0
      },
      "text/plain": [
       "episode_000012.mp4:   0%|          | 0.00/8.35M [00:00<?, ?B/s]"
      ]
     },
     "metadata": {},
     "output_type": "display_data"
    },
    {
     "data": {
      "application/vnd.jupyter.widget-view+json": {
       "model_id": "e417239053ec4955920cbea65da9a4a7",
       "version_major": 2,
       "version_minor": 0
      },
      "text/plain": [
       "episode_000013.mp4:   0%|          | 0.00/8.58M [00:00<?, ?B/s]"
      ]
     },
     "metadata": {},
     "output_type": "display_data"
    },
    {
     "data": {
      "application/vnd.jupyter.widget-view+json": {
       "model_id": "8851ceec474048848063dc2740445794",
       "version_major": 2,
       "version_minor": 0
      },
      "text/plain": [
       "episode_000014.mp4:   0%|          | 0.00/8.10M [00:00<?, ?B/s]"
      ]
     },
     "metadata": {},
     "output_type": "display_data"
    },
    {
     "data": {
      "application/vnd.jupyter.widget-view+json": {
       "model_id": "6ad0739ab1f0400e9e4b8a1d5296d1b5",
       "version_major": 2,
       "version_minor": 0
      },
      "text/plain": [
       "episode_000015.mp4:   0%|          | 0.00/8.48M [00:00<?, ?B/s]"
      ]
     },
     "metadata": {},
     "output_type": "display_data"
    },
    {
     "data": {
      "application/vnd.jupyter.widget-view+json": {
       "model_id": "22e7892d99d049a69a6ab384af0f7f11",
       "version_major": 2,
       "version_minor": 0
      },
      "text/plain": [
       "episode_000016.mp4:   0%|          | 0.00/9.30M [00:00<?, ?B/s]"
      ]
     },
     "metadata": {},
     "output_type": "display_data"
    },
    {
     "data": {
      "application/vnd.jupyter.widget-view+json": {
       "model_id": "9f3bf023f2854f219fdfe3d4f0ccacd3",
       "version_major": 2,
       "version_minor": 0
      },
      "text/plain": [
       "episode_000017.mp4:   0%|          | 0.00/7.70M [00:00<?, ?B/s]"
      ]
     },
     "metadata": {},
     "output_type": "display_data"
    },
    {
     "data": {
      "application/vnd.jupyter.widget-view+json": {
       "model_id": "f26cb875e5be4d25a44a004549c39d15",
       "version_major": 2,
       "version_minor": 0
      },
      "text/plain": [
       "episode_000018.mp4:   0%|          | 0.00/8.94M [00:00<?, ?B/s]"
      ]
     },
     "metadata": {},
     "output_type": "display_data"
    },
    {
     "data": {
      "application/vnd.jupyter.widget-view+json": {
       "model_id": "60e1106842084112b03e56e77762b989",
       "version_major": 2,
       "version_minor": 0
      },
      "text/plain": [
       "episode_000019.mp4:   0%|          | 0.00/9.66M [00:00<?, ?B/s]"
      ]
     },
     "metadata": {},
     "output_type": "display_data"
    },
    {
     "data": {
      "application/vnd.jupyter.widget-view+json": {
       "model_id": "77b5738a035f49b390b90d58482a533d",
       "version_major": 2,
       "version_minor": 0
      },
      "text/plain": [
       "episode_000020.mp4:   0%|          | 0.00/8.93M [00:00<?, ?B/s]"
      ]
     },
     "metadata": {},
     "output_type": "display_data"
    },
    {
     "data": {
      "application/vnd.jupyter.widget-view+json": {
       "model_id": "59573a9bcb354272b4aea1806083893a",
       "version_major": 2,
       "version_minor": 0
      },
      "text/plain": [
       "episode_000021.mp4:   0%|          | 0.00/8.39M [00:00<?, ?B/s]"
      ]
     },
     "metadata": {},
     "output_type": "display_data"
    },
    {
     "data": {
      "application/vnd.jupyter.widget-view+json": {
       "model_id": "95da463b218b4886b9de9ed72fb8b605",
       "version_major": 2,
       "version_minor": 0
      },
      "text/plain": [
       "episode_000022.mp4:   0%|          | 0.00/9.76M [00:00<?, ?B/s]"
      ]
     },
     "metadata": {},
     "output_type": "display_data"
    },
    {
     "data": {
      "application/vnd.jupyter.widget-view+json": {
       "model_id": "a22a2afd74d44dad8efe1b10e76f83a5",
       "version_major": 2,
       "version_minor": 0
      },
      "text/plain": [
       "episode_000023.mp4:   0%|          | 0.00/8.27M [00:00<?, ?B/s]"
      ]
     },
     "metadata": {},
     "output_type": "display_data"
    },
    {
     "data": {
      "application/vnd.jupyter.widget-view+json": {
       "model_id": "a29bf952f63a421f9f2ea7a29feb99ea",
       "version_major": 2,
       "version_minor": 0
      },
      "text/plain": [
       "episode_000024.mp4:   0%|          | 0.00/8.59M [00:00<?, ?B/s]"
      ]
     },
     "metadata": {},
     "output_type": "display_data"
    },
    {
     "data": {
      "application/vnd.jupyter.widget-view+json": {
       "model_id": "96ef805eebc24c56a221bad781615166",
       "version_major": 2,
       "version_minor": 0
      },
      "text/plain": [
       "episode_000025.mp4:   0%|          | 0.00/7.47M [00:00<?, ?B/s]"
      ]
     },
     "metadata": {},
     "output_type": "display_data"
    },
    {
     "data": {
      "application/vnd.jupyter.widget-view+json": {
       "model_id": "4113de98e6d64479b043addb8b687d76",
       "version_major": 2,
       "version_minor": 0
      },
      "text/plain": [
       "episode_000026.mp4:   0%|          | 0.00/8.96M [00:00<?, ?B/s]"
      ]
     },
     "metadata": {},
     "output_type": "display_data"
    },
    {
     "data": {
      "application/vnd.jupyter.widget-view+json": {
       "model_id": "c8ebcf926a9e4c66a13f875460669cce",
       "version_major": 2,
       "version_minor": 0
      },
      "text/plain": [
       "episode_000027.mp4:   0%|          | 0.00/10.1M [00:00<?, ?B/s]"
      ]
     },
     "metadata": {},
     "output_type": "display_data"
    },
    {
     "data": {
      "application/vnd.jupyter.widget-view+json": {
       "model_id": "c7e8bb59f46a45629e05f5f135be5db1",
       "version_major": 2,
       "version_minor": 0
      },
      "text/plain": [
       "episode_000028.mp4:   0%|          | 0.00/9.03M [00:00<?, ?B/s]"
      ]
     },
     "metadata": {},
     "output_type": "display_data"
    },
    {
     "data": {
      "application/vnd.jupyter.widget-view+json": {
       "model_id": "9f61fe915a6c4fdbb0c414e48ecde079",
       "version_major": 2,
       "version_minor": 0
      },
      "text/plain": [
       "episode_000029.mp4:   0%|          | 0.00/8.78M [00:00<?, ?B/s]"
      ]
     },
     "metadata": {},
     "output_type": "display_data"
    },
    {
     "data": {
      "application/vnd.jupyter.widget-view+json": {
       "model_id": "c8766002c35c45a1a865909c143a4cb9",
       "version_major": 2,
       "version_minor": 0
      },
      "text/plain": [
       "episode_000030.mp4:   0%|          | 0.00/10.0M [00:00<?, ?B/s]"
      ]
     },
     "metadata": {},
     "output_type": "display_data"
    },
    {
     "data": {
      "application/vnd.jupyter.widget-view+json": {
       "model_id": "81d57e97f46e400ab286ea5de4da9790",
       "version_major": 2,
       "version_minor": 0
      },
      "text/plain": [
       "episode_000031.mp4:   0%|          | 0.00/10.3M [00:00<?, ?B/s]"
      ]
     },
     "metadata": {},
     "output_type": "display_data"
    },
    {
     "data": {
      "application/vnd.jupyter.widget-view+json": {
       "model_id": "0d4261c21dc54c0bba43d059c28fa755",
       "version_major": 2,
       "version_minor": 0
      },
      "text/plain": [
       "episode_000032.mp4:   0%|          | 0.00/9.71M [00:00<?, ?B/s]"
      ]
     },
     "metadata": {},
     "output_type": "display_data"
    },
    {
     "data": {
      "application/vnd.jupyter.widget-view+json": {
       "model_id": "c31d7055446044c1a5e4aba70b8f11d6",
       "version_major": 2,
       "version_minor": 0
      },
      "text/plain": [
       "episode_000033.mp4:   0%|          | 0.00/8.91M [00:00<?, ?B/s]"
      ]
     },
     "metadata": {},
     "output_type": "display_data"
    },
    {
     "data": {
      "application/vnd.jupyter.widget-view+json": {
       "model_id": "d900da8fee214cdaab1396e0b0ef3475",
       "version_major": 2,
       "version_minor": 0
      },
      "text/plain": [
       "episode_000034.mp4:   0%|          | 0.00/9.22M [00:00<?, ?B/s]"
      ]
     },
     "metadata": {},
     "output_type": "display_data"
    },
    {
     "data": {
      "application/vnd.jupyter.widget-view+json": {
       "model_id": "8c1be03cf22440139c1888875ecdbe88",
       "version_major": 2,
       "version_minor": 0
      },
      "text/plain": [
       "episode_000035.mp4:   0%|          | 0.00/9.96M [00:00<?, ?B/s]"
      ]
     },
     "metadata": {},
     "output_type": "display_data"
    },
    {
     "data": {
      "application/vnd.jupyter.widget-view+json": {
       "model_id": "ace0eda638bb40068cf15408531177d9",
       "version_major": 2,
       "version_minor": 0
      },
      "text/plain": [
       "episode_000036.mp4:   0%|          | 0.00/9.15M [00:00<?, ?B/s]"
      ]
     },
     "metadata": {},
     "output_type": "display_data"
    },
    {
     "data": {
      "application/vnd.jupyter.widget-view+json": {
       "model_id": "27471321abcd455f871e781ade07de4e",
       "version_major": 2,
       "version_minor": 0
      },
      "text/plain": [
       "episode_000037.mp4:   0%|          | 0.00/8.47M [00:00<?, ?B/s]"
      ]
     },
     "metadata": {},
     "output_type": "display_data"
    },
    {
     "data": {
      "application/vnd.jupyter.widget-view+json": {
       "model_id": "166dd96308104dc38485ba791e459b2c",
       "version_major": 2,
       "version_minor": 0
      },
      "text/plain": [
       "episode_000038.mp4:   0%|          | 0.00/8.60M [00:00<?, ?B/s]"
      ]
     },
     "metadata": {},
     "output_type": "display_data"
    },
    {
     "data": {
      "application/vnd.jupyter.widget-view+json": {
       "model_id": "3aea36f533304afd94fa33ab7cf74e45",
       "version_major": 2,
       "version_minor": 0
      },
      "text/plain": [
       "episode_000039.mp4:   0%|          | 0.00/8.46M [00:00<?, ?B/s]"
      ]
     },
     "metadata": {},
     "output_type": "display_data"
    },
    {
     "data": {
      "application/vnd.jupyter.widget-view+json": {
       "model_id": "1f900d7b57224f62afcdb464b68e6fca",
       "version_major": 2,
       "version_minor": 0
      },
      "text/plain": [
       "episode_000040.mp4:   0%|          | 0.00/10.1M [00:00<?, ?B/s]"
      ]
     },
     "metadata": {},
     "output_type": "display_data"
    },
    {
     "data": {
      "application/vnd.jupyter.widget-view+json": {
       "model_id": "b9da4d31826e40f4b8260ee7469abd10",
       "version_major": 2,
       "version_minor": 0
      },
      "text/plain": [
       "episode_000041.mp4:   0%|          | 0.00/11.1M [00:00<?, ?B/s]"
      ]
     },
     "metadata": {},
     "output_type": "display_data"
    },
    {
     "data": {
      "application/vnd.jupyter.widget-view+json": {
       "model_id": "154f0b783112444d9c61afdfdeb7f8f2",
       "version_major": 2,
       "version_minor": 0
      },
      "text/plain": [
       "episode_000042.mp4:   0%|          | 0.00/7.76M [00:00<?, ?B/s]"
      ]
     },
     "metadata": {},
     "output_type": "display_data"
    },
    {
     "data": {
      "application/vnd.jupyter.widget-view+json": {
       "model_id": "eebca103c0f34897a4db397d27f391a7",
       "version_major": 2,
       "version_minor": 0
      },
      "text/plain": [
       "episode_000043.mp4:   0%|          | 0.00/8.91M [00:00<?, ?B/s]"
      ]
     },
     "metadata": {},
     "output_type": "display_data"
    },
    {
     "data": {
      "application/vnd.jupyter.widget-view+json": {
       "model_id": "fd6aad3e00bb4658bc5cc3e5082d04f8",
       "version_major": 2,
       "version_minor": 0
      },
      "text/plain": [
       "episode_000044.mp4:   0%|          | 0.00/9.26M [00:00<?, ?B/s]"
      ]
     },
     "metadata": {},
     "output_type": "display_data"
    },
    {
     "data": {
      "application/vnd.jupyter.widget-view+json": {
       "model_id": "29d02d24891c47169190a7ad079cf8b1",
       "version_major": 2,
       "version_minor": 0
      },
      "text/plain": [
       "episode_000045.mp4:   0%|          | 0.00/7.97M [00:00<?, ?B/s]"
      ]
     },
     "metadata": {},
     "output_type": "display_data"
    },
    {
     "data": {
      "application/vnd.jupyter.widget-view+json": {
       "model_id": "3d0911a199444386a97c8bcd638ee36a",
       "version_major": 2,
       "version_minor": 0
      },
      "text/plain": [
       "episode_000046.mp4:   0%|          | 0.00/9.83M [00:00<?, ?B/s]"
      ]
     },
     "metadata": {},
     "output_type": "display_data"
    },
    {
     "data": {
      "application/vnd.jupyter.widget-view+json": {
       "model_id": "4983e17754644d4d821ac46cc8a4cf07",
       "version_major": 2,
       "version_minor": 0
      },
      "text/plain": [
       "episode_000047.mp4:   0%|          | 0.00/8.60M [00:00<?, ?B/s]"
      ]
     },
     "metadata": {},
     "output_type": "display_data"
    },
    {
     "data": {
      "application/vnd.jupyter.widget-view+json": {
       "model_id": "ab77652da98842628d3a31a1e7d052da",
       "version_major": 2,
       "version_minor": 0
      },
      "text/plain": [
       "episode_000048.mp4:   0%|          | 0.00/8.72M [00:00<?, ?B/s]"
      ]
     },
     "metadata": {},
     "output_type": "display_data"
    },
    {
     "data": {
      "application/vnd.jupyter.widget-view+json": {
       "model_id": "e03a6778ce26499e81c9ce543a1a0ae9",
       "version_major": 2,
       "version_minor": 0
      },
      "text/plain": [
       "episode_000049.mp4:   0%|          | 0.00/11.2M [00:00<?, ?B/s]"
      ]
     },
     "metadata": {},
     "output_type": "display_data"
    },
    {
     "data": {
      "application/vnd.jupyter.widget-view+json": {
       "model_id": "4b436ca4bce04668b65f9589292c0629",
       "version_major": 2,
       "version_minor": 0
      },
      "text/plain": [
       "episode_000050.mp4:   0%|          | 0.00/10.2M [00:00<?, ?B/s]"
      ]
     },
     "metadata": {},
     "output_type": "display_data"
    },
    {
     "data": {
      "application/vnd.jupyter.widget-view+json": {
       "model_id": "a0ed8b529d524cf6990578a9b8e6a385",
       "version_major": 2,
       "version_minor": 0
      },
      "text/plain": [
       "episode_000051.mp4:   0%|          | 0.00/11.3M [00:00<?, ?B/s]"
      ]
     },
     "metadata": {},
     "output_type": "display_data"
    },
    {
     "data": {
      "application/vnd.jupyter.widget-view+json": {
       "model_id": "716c7446791e4a859badbe0155c96258",
       "version_major": 2,
       "version_minor": 0
      },
      "text/plain": [
       "episode_000052.mp4:   0%|          | 0.00/17.4k [00:00<?, ?B/s]"
      ]
     },
     "metadata": {},
     "output_type": "display_data"
    },
    {
     "data": {
      "application/vnd.jupyter.widget-view+json": {
       "model_id": "0cc70935c9e240cbbe435df9d662ca6b",
       "version_major": 2,
       "version_minor": 0
      },
      "text/plain": [
       "episode_000053.mp4:   0%|          | 0.00/8.88M [00:00<?, ?B/s]"
      ]
     },
     "metadata": {},
     "output_type": "display_data"
    },
    {
     "data": {
      "application/vnd.jupyter.widget-view+json": {
       "model_id": "a48156f0fc32462fa9278903c1ef4d75",
       "version_major": 2,
       "version_minor": 0
      },
      "text/plain": [
       "episode_000054.mp4:   0%|          | 0.00/10.4M [00:00<?, ?B/s]"
      ]
     },
     "metadata": {},
     "output_type": "display_data"
    },
    {
     "data": {
      "application/vnd.jupyter.widget-view+json": {
       "model_id": "9d8db3912602434fb68ff1d2d6287e60",
       "version_major": 2,
       "version_minor": 0
      },
      "text/plain": [
       "episode_000055.mp4:   0%|          | 0.00/9.82M [00:00<?, ?B/s]"
      ]
     },
     "metadata": {},
     "output_type": "display_data"
    },
    {
     "data": {
      "application/vnd.jupyter.widget-view+json": {
       "model_id": "3b5c6b576bc34548bdaa21d5717defb0",
       "version_major": 2,
       "version_minor": 0
      },
      "text/plain": [
       "episode_000056.mp4:   0%|          | 0.00/9.24M [00:00<?, ?B/s]"
      ]
     },
     "metadata": {},
     "output_type": "display_data"
    },
    {
     "data": {
      "application/vnd.jupyter.widget-view+json": {
       "model_id": "394e4acec0e04ff48cd695bda18b7f6a",
       "version_major": 2,
       "version_minor": 0
      },
      "text/plain": [
       "episode_000057.mp4:   0%|          | 0.00/11.3M [00:00<?, ?B/s]"
      ]
     },
     "metadata": {},
     "output_type": "display_data"
    },
    {
     "data": {
      "application/vnd.jupyter.widget-view+json": {
       "model_id": "657cd47f1f194769805b4136c3b96fe7",
       "version_major": 2,
       "version_minor": 0
      },
      "text/plain": [
       "episode_000058.mp4:   0%|          | 0.00/17.2k [00:00<?, ?B/s]"
      ]
     },
     "metadata": {},
     "output_type": "display_data"
    },
    {
     "data": {
      "application/vnd.jupyter.widget-view+json": {
       "model_id": "6910efce99f644dbb7bfca40e79e7a6b",
       "version_major": 2,
       "version_minor": 0
      },
      "text/plain": [
       "episode_000059.mp4:   0%|          | 0.00/11.3M [00:00<?, ?B/s]"
      ]
     },
     "metadata": {},
     "output_type": "display_data"
    },
    {
     "data": {
      "application/vnd.jupyter.widget-view+json": {
       "model_id": "640c053b0ade48b684429ada4f8082fc",
       "version_major": 2,
       "version_minor": 0
      },
      "text/plain": [
       "episode_000000.mp4:   0%|          | 0.00/7.61M [00:00<?, ?B/s]"
      ]
     },
     "metadata": {},
     "output_type": "display_data"
    },
    {
     "data": {
      "application/vnd.jupyter.widget-view+json": {
       "model_id": "7612d2129f884437b227a0f7b35b001d",
       "version_major": 2,
       "version_minor": 0
      },
      "text/plain": [
       "episode_000001.mp4:   0%|          | 0.00/6.77M [00:00<?, ?B/s]"
      ]
     },
     "metadata": {},
     "output_type": "display_data"
    },
    {
     "data": {
      "application/vnd.jupyter.widget-view+json": {
       "model_id": "d0cbcec804c544cd8a48869b442eb410",
       "version_major": 2,
       "version_minor": 0
      },
      "text/plain": [
       "episode_000002.mp4:   0%|          | 0.00/5.40M [00:00<?, ?B/s]"
      ]
     },
     "metadata": {},
     "output_type": "display_data"
    },
    {
     "data": {
      "application/vnd.jupyter.widget-view+json": {
       "model_id": "b502464dec5748d2a08f72fbc7b06258",
       "version_major": 2,
       "version_minor": 0
      },
      "text/plain": [
       "episode_000003.mp4:   0%|          | 0.00/6.17M [00:00<?, ?B/s]"
      ]
     },
     "metadata": {},
     "output_type": "display_data"
    },
    {
     "data": {
      "application/vnd.jupyter.widget-view+json": {
       "model_id": "d503b47cfc1043fbb6b3780550cddf61",
       "version_major": 2,
       "version_minor": 0
      },
      "text/plain": [
       "episode_000004.mp4:   0%|          | 0.00/7.40M [00:00<?, ?B/s]"
      ]
     },
     "metadata": {},
     "output_type": "display_data"
    },
    {
     "data": {
      "application/vnd.jupyter.widget-view+json": {
       "model_id": "ed8979a5d9254841bc65129f16675bfc",
       "version_major": 2,
       "version_minor": 0
      },
      "text/plain": [
       "episode_000005.mp4:   0%|          | 0.00/6.96M [00:00<?, ?B/s]"
      ]
     },
     "metadata": {},
     "output_type": "display_data"
    },
    {
     "data": {
      "application/vnd.jupyter.widget-view+json": {
       "model_id": "ebced52dfdfa4119900eb7cc5d48bce2",
       "version_major": 2,
       "version_minor": 0
      },
      "text/plain": [
       "episode_000006.mp4:   0%|          | 0.00/7.28M [00:00<?, ?B/s]"
      ]
     },
     "metadata": {},
     "output_type": "display_data"
    },
    {
     "data": {
      "application/vnd.jupyter.widget-view+json": {
       "model_id": "06c750e30a244e18ac69f55ce37a6ef1",
       "version_major": 2,
       "version_minor": 0
      },
      "text/plain": [
       "episode_000007.mp4:   0%|          | 0.00/7.35M [00:00<?, ?B/s]"
      ]
     },
     "metadata": {},
     "output_type": "display_data"
    },
    {
     "data": {
      "application/vnd.jupyter.widget-view+json": {
       "model_id": "763fc95ad73e4d0ca616e9d7fc0d44d4",
       "version_major": 2,
       "version_minor": 0
      },
      "text/plain": [
       "episode_000008.mp4:   0%|          | 0.00/4.64M [00:00<?, ?B/s]"
      ]
     },
     "metadata": {},
     "output_type": "display_data"
    },
    {
     "data": {
      "application/vnd.jupyter.widget-view+json": {
       "model_id": "b6a75cb2aace4008b4b81dfac7b617a0",
       "version_major": 2,
       "version_minor": 0
      },
      "text/plain": [
       "episode_000009.mp4:   0%|          | 0.00/5.60M [00:00<?, ?B/s]"
      ]
     },
     "metadata": {},
     "output_type": "display_data"
    },
    {
     "data": {
      "application/vnd.jupyter.widget-view+json": {
       "model_id": "318494e7f0524029a8ae519765f9f845",
       "version_major": 2,
       "version_minor": 0
      },
      "text/plain": [
       "episode_000010.mp4:   0%|          | 0.00/5.07M [00:00<?, ?B/s]"
      ]
     },
     "metadata": {},
     "output_type": "display_data"
    },
    {
     "data": {
      "application/vnd.jupyter.widget-view+json": {
       "model_id": "92bbbfd7962c4f858c9b10146c196ec7",
       "version_major": 2,
       "version_minor": 0
      },
      "text/plain": [
       "episode_000011.mp4:   0%|          | 0.00/4.67M [00:00<?, ?B/s]"
      ]
     },
     "metadata": {},
     "output_type": "display_data"
    },
    {
     "data": {
      "application/vnd.jupyter.widget-view+json": {
       "model_id": "b56d964480084ebab0eb629d7161072c",
       "version_major": 2,
       "version_minor": 0
      },
      "text/plain": [
       "episode_000012.mp4:   0%|          | 0.00/5.16M [00:00<?, ?B/s]"
      ]
     },
     "metadata": {},
     "output_type": "display_data"
    },
    {
     "data": {
      "application/vnd.jupyter.widget-view+json": {
       "model_id": "da6fb5dad48b4a07a0520ceebcecb8eb",
       "version_major": 2,
       "version_minor": 0
      },
      "text/plain": [
       "episode_000013.mp4:   0%|          | 0.00/5.35M [00:00<?, ?B/s]"
      ]
     },
     "metadata": {},
     "output_type": "display_data"
    },
    {
     "data": {
      "application/vnd.jupyter.widget-view+json": {
       "model_id": "c13ded1fa5b94a27b2c12861408a8701",
       "version_major": 2,
       "version_minor": 0
      },
      "text/plain": [
       "episode_000014.mp4:   0%|          | 0.00/5.04M [00:00<?, ?B/s]"
      ]
     },
     "metadata": {},
     "output_type": "display_data"
    },
    {
     "data": {
      "application/vnd.jupyter.widget-view+json": {
       "model_id": "71f3e8fcb6c54bb29ef4d0a48eb1bf78",
       "version_major": 2,
       "version_minor": 0
      },
      "text/plain": [
       "episode_000015.mp4:   0%|          | 0.00/5.36M [00:00<?, ?B/s]"
      ]
     },
     "metadata": {},
     "output_type": "display_data"
    },
    {
     "data": {
      "application/vnd.jupyter.widget-view+json": {
       "model_id": "a8dd6aa562c34bdaab9b765a868fc4d7",
       "version_major": 2,
       "version_minor": 0
      },
      "text/plain": [
       "episode_000016.mp4:   0%|          | 0.00/5.86M [00:00<?, ?B/s]"
      ]
     },
     "metadata": {},
     "output_type": "display_data"
    },
    {
     "data": {
      "application/vnd.jupyter.widget-view+json": {
       "model_id": "cb3b6bcf56964cebaa6bad2bbbb8681e",
       "version_major": 2,
       "version_minor": 0
      },
      "text/plain": [
       "episode_000017.mp4:   0%|          | 0.00/4.90M [00:00<?, ?B/s]"
      ]
     },
     "metadata": {},
     "output_type": "display_data"
    },
    {
     "data": {
      "application/vnd.jupyter.widget-view+json": {
       "model_id": "a56195c00db84968a853d40c25d8c31d",
       "version_major": 2,
       "version_minor": 0
      },
      "text/plain": [
       "episode_000018.mp4:   0%|          | 0.00/5.71M [00:00<?, ?B/s]"
      ]
     },
     "metadata": {},
     "output_type": "display_data"
    },
    {
     "data": {
      "application/vnd.jupyter.widget-view+json": {
       "model_id": "531eb280324044a8b5b2e589ec33e26c",
       "version_major": 2,
       "version_minor": 0
      },
      "text/plain": [
       "episode_000019.mp4:   0%|          | 0.00/6.20M [00:00<?, ?B/s]"
      ]
     },
     "metadata": {},
     "output_type": "display_data"
    },
    {
     "data": {
      "application/vnd.jupyter.widget-view+json": {
       "model_id": "b825c8a72515439f839facb387722a0a",
       "version_major": 2,
       "version_minor": 0
      },
      "text/plain": [
       "episode_000020.mp4:   0%|          | 0.00/5.68M [00:00<?, ?B/s]"
      ]
     },
     "metadata": {},
     "output_type": "display_data"
    },
    {
     "data": {
      "application/vnd.jupyter.widget-view+json": {
       "model_id": "712c4810a0ec4880987ac6f250085daf",
       "version_major": 2,
       "version_minor": 0
      },
      "text/plain": [
       "episode_000021.mp4:   0%|          | 0.00/5.36M [00:00<?, ?B/s]"
      ]
     },
     "metadata": {},
     "output_type": "display_data"
    },
    {
     "data": {
      "application/vnd.jupyter.widget-view+json": {
       "model_id": "a6ca1a5b1c7645c39728d7edc2042c08",
       "version_major": 2,
       "version_minor": 0
      },
      "text/plain": [
       "episode_000022.mp4:   0%|          | 0.00/6.24M [00:00<?, ?B/s]"
      ]
     },
     "metadata": {},
     "output_type": "display_data"
    },
    {
     "data": {
      "application/vnd.jupyter.widget-view+json": {
       "model_id": "444ede0db49d40b686ac5fe72683798a",
       "version_major": 2,
       "version_minor": 0
      },
      "text/plain": [
       "episode_000023.mp4:   0%|          | 0.00/5.34M [00:00<?, ?B/s]"
      ]
     },
     "metadata": {},
     "output_type": "display_data"
    },
    {
     "data": {
      "application/vnd.jupyter.widget-view+json": {
       "model_id": "3f846591ab344220955aaac317aa653f",
       "version_major": 2,
       "version_minor": 0
      },
      "text/plain": [
       "episode_000024.mp4:   0%|          | 0.00/5.55M [00:00<?, ?B/s]"
      ]
     },
     "metadata": {},
     "output_type": "display_data"
    },
    {
     "data": {
      "application/vnd.jupyter.widget-view+json": {
       "model_id": "7c283d40cb1445d3b6a9f7ac14f50482",
       "version_major": 2,
       "version_minor": 0
      },
      "text/plain": [
       "episode_000025.mp4:   0%|          | 0.00/4.81M [00:00<?, ?B/s]"
      ]
     },
     "metadata": {},
     "output_type": "display_data"
    },
    {
     "data": {
      "application/vnd.jupyter.widget-view+json": {
       "model_id": "0778a7d3bffa4e4ab2991a1af53ddde5",
       "version_major": 2,
       "version_minor": 0
      },
      "text/plain": [
       "episode_000026.mp4:   0%|          | 0.00/5.84M [00:00<?, ?B/s]"
      ]
     },
     "metadata": {},
     "output_type": "display_data"
    },
    {
     "data": {
      "application/vnd.jupyter.widget-view+json": {
       "model_id": "b3a831b699aa46eaacdf74e61ecc7cd9",
       "version_major": 2,
       "version_minor": 0
      },
      "text/plain": [
       "episode_000027.mp4:   0%|          | 0.00/6.55M [00:00<?, ?B/s]"
      ]
     },
     "metadata": {},
     "output_type": "display_data"
    },
    {
     "data": {
      "application/vnd.jupyter.widget-view+json": {
       "model_id": "9af4313b76dd4f31a6b997a73caae039",
       "version_major": 2,
       "version_minor": 0
      },
      "text/plain": [
       "episode_000028.mp4:   0%|          | 0.00/5.84M [00:00<?, ?B/s]"
      ]
     },
     "metadata": {},
     "output_type": "display_data"
    },
    {
     "data": {
      "application/vnd.jupyter.widget-view+json": {
       "model_id": "1afef12e84d146eb8a0197d9bf330b92",
       "version_major": 2,
       "version_minor": 0
      },
      "text/plain": [
       "episode_000029.mp4:   0%|          | 0.00/5.67M [00:00<?, ?B/s]"
      ]
     },
     "metadata": {},
     "output_type": "display_data"
    },
    {
     "data": {
      "application/vnd.jupyter.widget-view+json": {
       "model_id": "452b31e540f04cff8a81c647664dc4e7",
       "version_major": 2,
       "version_minor": 0
      },
      "text/plain": [
       "episode_000030.mp4:   0%|          | 0.00/6.48M [00:00<?, ?B/s]"
      ]
     },
     "metadata": {},
     "output_type": "display_data"
    },
    {
     "data": {
      "application/vnd.jupyter.widget-view+json": {
       "model_id": "707bd3480b8a41feb54aa81b8c0e55c8",
       "version_major": 2,
       "version_minor": 0
      },
      "text/plain": [
       "episode_000031.mp4:   0%|          | 0.00/6.71M [00:00<?, ?B/s]"
      ]
     },
     "metadata": {},
     "output_type": "display_data"
    },
    {
     "data": {
      "application/vnd.jupyter.widget-view+json": {
       "model_id": "49f0b6c5a5554ccba62e9d5111534610",
       "version_major": 2,
       "version_minor": 0
      },
      "text/plain": [
       "episode_000032.mp4:   0%|          | 0.00/6.33M [00:00<?, ?B/s]"
      ]
     },
     "metadata": {},
     "output_type": "display_data"
    },
    {
     "data": {
      "application/vnd.jupyter.widget-view+json": {
       "model_id": "90d3bd6e167942d8a367e81f4cdd6d3f",
       "version_major": 2,
       "version_minor": 0
      },
      "text/plain": [
       "episode_000033.mp4:   0%|          | 0.00/5.79M [00:00<?, ?B/s]"
      ]
     },
     "metadata": {},
     "output_type": "display_data"
    },
    {
     "data": {
      "application/vnd.jupyter.widget-view+json": {
       "model_id": "6a16e9ecdb954edd842aa8dcefbb9d6e",
       "version_major": 2,
       "version_minor": 0
      },
      "text/plain": [
       "episode_000034.mp4:   0%|          | 0.00/6.00M [00:00<?, ?B/s]"
      ]
     },
     "metadata": {},
     "output_type": "display_data"
    },
    {
     "data": {
      "application/vnd.jupyter.widget-view+json": {
       "model_id": "ca15199f1af44688b28cc3d2c42acbd1",
       "version_major": 2,
       "version_minor": 0
      },
      "text/plain": [
       "episode_000035.mp4:   0%|          | 0.00/6.47M [00:00<?, ?B/s]"
      ]
     },
     "metadata": {},
     "output_type": "display_data"
    },
    {
     "data": {
      "application/vnd.jupyter.widget-view+json": {
       "model_id": "3c9842eca87d495cb33ae92277f634bf",
       "version_major": 2,
       "version_minor": 0
      },
      "text/plain": [
       "episode_000036.mp4:   0%|          | 0.00/5.95M [00:00<?, ?B/s]"
      ]
     },
     "metadata": {},
     "output_type": "display_data"
    },
    {
     "data": {
      "application/vnd.jupyter.widget-view+json": {
       "model_id": "2a86de7bbf0d4fc498fde4002d6a4c22",
       "version_major": 2,
       "version_minor": 0
      },
      "text/plain": [
       "episode_000037.mp4:   0%|          | 0.00/5.49M [00:00<?, ?B/s]"
      ]
     },
     "metadata": {},
     "output_type": "display_data"
    },
    {
     "data": {
      "application/vnd.jupyter.widget-view+json": {
       "model_id": "997cd52f432d4fed98d8b7f2e68c2a01",
       "version_major": 2,
       "version_minor": 0
      },
      "text/plain": [
       "episode_000038.mp4:   0%|          | 0.00/5.59M [00:00<?, ?B/s]"
      ]
     },
     "metadata": {},
     "output_type": "display_data"
    },
    {
     "data": {
      "application/vnd.jupyter.widget-view+json": {
       "model_id": "e4198624228842249be991db6f8517d7",
       "version_major": 2,
       "version_minor": 0
      },
      "text/plain": [
       "episode_000039.mp4:   0%|          | 0.00/5.53M [00:00<?, ?B/s]"
      ]
     },
     "metadata": {},
     "output_type": "display_data"
    },
    {
     "data": {
      "application/vnd.jupyter.widget-view+json": {
       "model_id": "91189855db784b52b5d8728248d2c7c7",
       "version_major": 2,
       "version_minor": 0
      },
      "text/plain": [
       "episode_000040.mp4:   0%|          | 0.00/6.66M [00:00<?, ?B/s]"
      ]
     },
     "metadata": {},
     "output_type": "display_data"
    },
    {
     "data": {
      "application/vnd.jupyter.widget-view+json": {
       "model_id": "ba136e0fda85404396fd9a6b27726bbd",
       "version_major": 2,
       "version_minor": 0
      },
      "text/plain": [
       "episode_000041.mp4:   0%|          | 0.00/7.33M [00:00<?, ?B/s]"
      ]
     },
     "metadata": {},
     "output_type": "display_data"
    },
    {
     "data": {
      "application/vnd.jupyter.widget-view+json": {
       "model_id": "22300159f82c4f55bb657ac758d5875c",
       "version_major": 2,
       "version_minor": 0
      },
      "text/plain": [
       "episode_000042.mp4:   0%|          | 0.00/5.13M [00:00<?, ?B/s]"
      ]
     },
     "metadata": {},
     "output_type": "display_data"
    },
    {
     "data": {
      "application/vnd.jupyter.widget-view+json": {
       "model_id": "ab8dce91d44c49e6ad30b11a4cf0ba7a",
       "version_major": 2,
       "version_minor": 0
      },
      "text/plain": [
       "episode_000043.mp4:   0%|          | 0.00/5.83M [00:00<?, ?B/s]"
      ]
     },
     "metadata": {},
     "output_type": "display_data"
    },
    {
     "data": {
      "application/vnd.jupyter.widget-view+json": {
       "model_id": "e10014ccd6a142f2a42985da319d4701",
       "version_major": 2,
       "version_minor": 0
      },
      "text/plain": [
       "episode_000044.mp4:   0%|          | 0.00/6.09M [00:00<?, ?B/s]"
      ]
     },
     "metadata": {},
     "output_type": "display_data"
    },
    {
     "data": {
      "application/vnd.jupyter.widget-view+json": {
       "model_id": "d852bbc3ae82476e887b3ef7a400a0b0",
       "version_major": 2,
       "version_minor": 0
      },
      "text/plain": [
       "episode_000045.mp4:   0%|          | 0.00/5.25M [00:00<?, ?B/s]"
      ]
     },
     "metadata": {},
     "output_type": "display_data"
    },
    {
     "data": {
      "application/vnd.jupyter.widget-view+json": {
       "model_id": "1baa878e4929465297ded3bab4158b38",
       "version_major": 2,
       "version_minor": 0
      },
      "text/plain": [
       "episode_000046.mp4:   0%|          | 0.00/6.48M [00:00<?, ?B/s]"
      ]
     },
     "metadata": {},
     "output_type": "display_data"
    },
    {
     "data": {
      "application/vnd.jupyter.widget-view+json": {
       "model_id": "06e7287e53b24e95bef11ad4ee5c16b0",
       "version_major": 2,
       "version_minor": 0
      },
      "text/plain": [
       "episode_000047.mp4:   0%|          | 0.00/5.66M [00:00<?, ?B/s]"
      ]
     },
     "metadata": {},
     "output_type": "display_data"
    },
    {
     "data": {
      "application/vnd.jupyter.widget-view+json": {
       "model_id": "91e078616be444e48f8873127b30ce42",
       "version_major": 2,
       "version_minor": 0
      },
      "text/plain": [
       "episode_000048.mp4:   0%|          | 0.00/5.73M [00:00<?, ?B/s]"
      ]
     },
     "metadata": {},
     "output_type": "display_data"
    },
    {
     "data": {
      "application/vnd.jupyter.widget-view+json": {
       "model_id": "f5d77c6059e249f79262b38757b7b3e0",
       "version_major": 2,
       "version_minor": 0
      },
      "text/plain": [
       "episode_000049.mp4:   0%|          | 0.00/7.43M [00:00<?, ?B/s]"
      ]
     },
     "metadata": {},
     "output_type": "display_data"
    },
    {
     "data": {
      "application/vnd.jupyter.widget-view+json": {
       "model_id": "6dde55d6796d450a98cae0c77d77cac2",
       "version_major": 2,
       "version_minor": 0
      },
      "text/plain": [
       "episode_000050.mp4:   0%|          | 0.00/6.76M [00:00<?, ?B/s]"
      ]
     },
     "metadata": {},
     "output_type": "display_data"
    },
    {
     "data": {
      "application/vnd.jupyter.widget-view+json": {
       "model_id": "2b766ef9f92e47bda6d4766abf377121",
       "version_major": 2,
       "version_minor": 0
      },
      "text/plain": [
       "episode_000051.mp4:   0%|          | 0.00/7.49M [00:00<?, ?B/s]"
      ]
     },
     "metadata": {},
     "output_type": "display_data"
    },
    {
     "data": {
      "application/vnd.jupyter.widget-view+json": {
       "model_id": "5a821a156c2e4acdbd3bb1ffb41bcfa1",
       "version_major": 2,
       "version_minor": 0
      },
      "text/plain": [
       "episode_000052.mp4:   0%|          | 0.00/11.1k [00:00<?, ?B/s]"
      ]
     },
     "metadata": {},
     "output_type": "display_data"
    },
    {
     "data": {
      "application/vnd.jupyter.widget-view+json": {
       "model_id": "f2d9c7534bdd4eaeb231302c8baac8a8",
       "version_major": 2,
       "version_minor": 0
      },
      "text/plain": [
       "episode_000053.mp4:   0%|          | 0.00/5.90M [00:00<?, ?B/s]"
      ]
     },
     "metadata": {},
     "output_type": "display_data"
    },
    {
     "data": {
      "application/vnd.jupyter.widget-view+json": {
       "model_id": "3eeb9149c5fb409aac808c60d56b7c90",
       "version_major": 2,
       "version_minor": 0
      },
      "text/plain": [
       "episode_000054.mp4:   0%|          | 0.00/6.90M [00:00<?, ?B/s]"
      ]
     },
     "metadata": {},
     "output_type": "display_data"
    },
    {
     "data": {
      "application/vnd.jupyter.widget-view+json": {
       "model_id": "faeb366d4f1e40ec8d22d2220df3d8ed",
       "version_major": 2,
       "version_minor": 0
      },
      "text/plain": [
       "episode_000055.mp4:   0%|          | 0.00/6.48M [00:00<?, ?B/s]"
      ]
     },
     "metadata": {},
     "output_type": "display_data"
    },
    {
     "data": {
      "application/vnd.jupyter.widget-view+json": {
       "model_id": "e71c4a223b30482c9decd419f390367e",
       "version_major": 2,
       "version_minor": 0
      },
      "text/plain": [
       "episode_000056.mp4:   0%|          | 0.00/6.15M [00:00<?, ?B/s]"
      ]
     },
     "metadata": {},
     "output_type": "display_data"
    },
    {
     "data": {
      "application/vnd.jupyter.widget-view+json": {
       "model_id": "31d127ed340c4f66a7a2fbc0ade46686",
       "version_major": 2,
       "version_minor": 0
      },
      "text/plain": [
       "episode_000057.mp4:   0%|          | 0.00/7.55M [00:00<?, ?B/s]"
      ]
     },
     "metadata": {},
     "output_type": "display_data"
    },
    {
     "data": {
      "application/vnd.jupyter.widget-view+json": {
       "model_id": "0097365ef1d94b5e8d8fc4eb6ad20d78",
       "version_major": 2,
       "version_minor": 0
      },
      "text/plain": [
       "episode_000058.mp4:   0%|          | 0.00/11.2k [00:00<?, ?B/s]"
      ]
     },
     "metadata": {},
     "output_type": "display_data"
    },
    {
     "data": {
      "application/vnd.jupyter.widget-view+json": {
       "model_id": "255dcdeb52c74254b7992cfac7aaf59c",
       "version_major": 2,
       "version_minor": 0
      },
      "text/plain": [
       "episode_000059.mp4:   0%|          | 0.00/7.56M [00:00<?, ?B/s]"
      ]
     },
     "metadata": {},
     "output_type": "display_data"
    }
   ],
   "source": [
    "from scripts.task_enhancer import enhance_lerobot_dataset\n",
    "repo_id = \"satvikahuja/mixer_on_off_new_1\"\n",
    "dataset = enhance_lerobot_dataset(\n",
    "    dataset_path=repo_id,\n",
    "    dry_run=False,\n",
    "    output_dir=\"test\",\n",
    "    push_to_hub=True,\n",
    "    \n",
    ")"
   ]
  },
  {
   "cell_type": "code",
   "execution_count": null,
   "id": "98e1c8a9",
   "metadata": {},
   "outputs": [],
   "source": [
    "import json\n",
    "file_path =\"test/satvikahuja/mixer_on_off_new_1/meta/tasks.jsonl\""
   ]
  },
  {
   "cell_type": "code",
   "execution_count": 9,
   "id": "6095453e",
   "metadata": {},
   "outputs": [],
   "source": [
    "meta_type = file_path.split(\"/\")[-1].split(\".\")[0]\n",
    "data = getattr(dataset.meta, meta_type)\n",
    "with open(file_path, \"w\") as f:\n",
    "    f.write(json.dumps(data) + \"\\n\")"
   ]
  },
  {
   "cell_type": "code",
   "execution_count": null,
   "id": "f2ec0e5c",
   "metadata": {},
   "outputs": [
    {
     "data": {
      "text/plain": [
       "{0: {'episode_index': 0, 'tasks': ['Turn on the blender.'], 'length': 648},\n",
       " 1: {'episode_index': 1, 'tasks': ['Turn on the blender.'], 'length': 570},\n",
       " 2: {'episode_index': 2, 'tasks': ['Turn on the blender.'], 'length': 580},\n",
       " 3: {'episode_index': 3, 'tasks': ['Turn on the blender.'], 'length': 569},\n",
       " 4: {'episode_index': 4, 'tasks': ['Turn on the blender.'], 'length': 642},\n",
       " 5: {'episode_index': 5, 'tasks': ['Turn on the blender.'], 'length': 597},\n",
       " 6: {'episode_index': 6, 'tasks': ['Turn on the blender.'], 'length': 620},\n",
       " 7: {'episode_index': 7, 'tasks': ['Turn on the blender.'], 'length': 631},\n",
       " 8: {'episode_index': 8, 'tasks': ['Turn on the blender.'], 'length': 596},\n",
       " 9: {'episode_index': 9, 'tasks': ['Turn on the blender.'], 'length': 724},\n",
       " 10: {'episode_index': 10, 'tasks': ['Turn on the blender.'], 'length': 649},\n",
       " 11: {'episode_index': 11, 'tasks': ['Turn on the blender.'], 'length': 596},\n",
       " 12: {'episode_index': 12, 'tasks': ['Turn on the blender.'], 'length': 657},\n",
       " 13: {'episode_index': 13, 'tasks': ['Turn on the blender.'], 'length': 678},\n",
       " 14: {'episode_index': 14, 'tasks': ['Turn on the blender.'], 'length': 641},\n",
       " 15: {'episode_index': 15, 'tasks': ['Turn on the blender.'], 'length': 669},\n",
       " 16: {'episode_index': 16, 'tasks': ['Turn on the blender.'], 'length': 729},\n",
       " 17: {'episode_index': 17, 'tasks': ['Turn on the blender.'], 'length': 610},\n",
       " 18: {'episode_index': 18, 'tasks': ['Turn on the blender.'], 'length': 708},\n",
       " 19: {'episode_index': 19, 'tasks': ['Turn on the blender.'], 'length': 764},\n",
       " 20: {'episode_index': 20, 'tasks': ['Turn on the blender.'], 'length': 701},\n",
       " 21: {'episode_index': 21, 'tasks': ['Turn on the blender.'], 'length': 663},\n",
       " 22: {'episode_index': 22, 'tasks': ['Turn on the blender.'], 'length': 767},\n",
       " 23: {'episode_index': 23, 'tasks': ['Turn on the blender.'], 'length': 649},\n",
       " 24: {'episode_index': 24, 'tasks': ['Turn on the blender.'], 'length': 675},\n",
       " 25: {'episode_index': 25, 'tasks': ['Turn on the blender.'], 'length': 589},\n",
       " 26: {'episode_index': 26, 'tasks': ['Turn on the blender.'], 'length': 708},\n",
       " 27: {'episode_index': 27, 'tasks': ['Turn on the blender.'], 'length': 796},\n",
       " 28: {'episode_index': 28, 'tasks': ['Turn on the blender.'], 'length': 710},\n",
       " 29: {'episode_index': 29, 'tasks': ['Turn on the blender.'], 'length': 692},\n",
       " 30: {'episode_index': 30, 'tasks': ['Turn on the blender.'], 'length': 789},\n",
       " 31: {'episode_index': 31, 'tasks': ['Turn on the blender.'], 'length': 817},\n",
       " 32: {'episode_index': 32, 'tasks': ['Turn on the blender.'], 'length': 771},\n",
       " 33: {'episode_index': 33, 'tasks': ['Turn on the blender.'], 'length': 701},\n",
       " 34: {'episode_index': 34, 'tasks': ['Turn on the blender.'], 'length': 724},\n",
       " 35: {'episode_index': 35, 'tasks': ['Turn on the blender.'], 'length': 786},\n",
       " 36: {'episode_index': 36, 'tasks': ['Turn on the blender.'], 'length': 723},\n",
       " 37: {'episode_index': 37, 'tasks': ['Turn on the blender.'], 'length': 670},\n",
       " 38: {'episode_index': 38, 'tasks': ['Turn on the blender.'], 'length': 679},\n",
       " 39: {'episode_index': 39, 'tasks': ['Turn on the blender.'], 'length': 673},\n",
       " 40: {'episode_index': 40, 'tasks': ['Turn on the blender.'], 'length': 801},\n",
       " 41: {'episode_index': 41, 'tasks': ['Turn on the blender.'], 'length': 876},\n",
       " 42: {'episode_index': 42, 'tasks': ['Turn on the blender.'], 'length': 615},\n",
       " 43: {'episode_index': 43, 'tasks': ['Turn on the blender.'], 'length': 706},\n",
       " 44: {'episode_index': 44, 'tasks': ['Turn on the blender.'], 'length': 735},\n",
       " 45: {'episode_index': 45, 'tasks': ['Turn on the blender.'], 'length': 633},\n",
       " 46: {'episode_index': 46, 'tasks': ['Turn on the blender.'], 'length': 773},\n",
       " 47: {'episode_index': 47, 'tasks': ['Turn on the blender.'], 'length': 680},\n",
       " 48: {'episode_index': 48, 'tasks': ['Turn on the blender.'], 'length': 687},\n",
       " 49: {'episode_index': 49, 'tasks': ['Turn on the blender.'], 'length': 888},\n",
       " 50: {'episode_index': 50, 'tasks': ['Turn on the blender.'], 'length': 806},\n",
       " 51: {'episode_index': 51, 'tasks': ['Turn on the blender.'], 'length': 895},\n",
       " 52: {'episode_index': 52, 'tasks': ['Turn on the blender.'], 'length': 1},\n",
       " 53: {'episode_index': 53, 'tasks': ['Turn on the blender.'], 'length': 703},\n",
       " 54: {'episode_index': 54, 'tasks': ['Turn on the blender.'], 'length': 824},\n",
       " 55: {'episode_index': 55, 'tasks': ['Turn on the blender.'], 'length': 775},\n",
       " 56: {'episode_index': 56, 'tasks': ['Turn on the blender.'], 'length': 732},\n",
       " 57: {'episode_index': 57, 'tasks': ['Turn on the blender.'], 'length': 895},\n",
       " 58: {'episode_index': 58, 'tasks': ['Turn on the blender.'], 'length': 1},\n",
       " 59: {'episode_index': 59, 'tasks': ['Turn on the blender.'], 'length': 895}}"
      ]
     },
     "execution_count": 2,
     "metadata": {},
     "output_type": "execute_result"
    }
   ],
   "source": [
    "\n",
    "\n",
    "with open(file_path, \"r\") as f:\n",
    "                data = json.loads(f.readline())\n",
    "            # Modify the dict as needed\n",
    "            meta_type = file_path.split(\"/\")[-1].split(\".\")[0]\n",
    "            data = getattr(dataset.meta, meta_type)\n",
    "            logger.info(f\"Modifying:\",file_path)\n",
    "            logger.info(f\"Modifying  with :\",data)"
   ]
  },
  {
   "cell_type": "code",
   "execution_count": null,
   "id": "e02de696",
   "metadata": {},
   "outputs": [],
   "source": [
    "PY"
   ]
  }
 ],
 "metadata": {
  "kernelspec": {
   "display_name": "env",
   "language": "python",
   "name": "python3"
  },
  "language_info": {
   "codemirror_mode": {
    "name": "ipython",
    "version": 3
   },
   "file_extension": ".py",
   "mimetype": "text/x-python",
   "name": "python",
   "nbconvert_exporter": "python",
   "pygments_lexer": "ipython3",
   "version": "3.11.0"
  }
 },
 "nbformat": 4,
 "nbformat_minor": 5
}
