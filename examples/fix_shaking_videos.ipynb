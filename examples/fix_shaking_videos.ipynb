{
 "cells": [
  {
   "cell_type": "code",
   "execution_count": 17,
   "id": "b75cc5a8",
   "metadata": {},
   "outputs": [],
   "source": [
    "from lerobot.common.datasets.lerobot_dataset import HF_LEROBOT_HOME\n",
    "from IPython.display import Video\n",
    "\n",
    "repo_id = \"ml6team/lerobot-hackathon-dummy-dataset-v2-red-frames\"\n",
    "dir_before = HF_LEROBOT_HOME/repo_id\n",
    "dir_after = f\"{repo_id}_enhanced\"\n",
    "video_path = \"videos/videos/chunk-000/observation.images.top_view/episode_000000.mp4\""
   ]
  },
  {
   "cell_type": "code",
   "execution_count": 28,
   "id": "a28a3609",
   "metadata": {},
   "outputs": [
    {
     "name": "stdout",
     "output_type": "stream",
     "text": [
      "2025-06-15 15:00:06,953 - INFO - Loading dataset from ml6team/lerobot-hackathon-dummy-dataset-v2-red-frames\n",
      "2025-06-15 15:00:07,441 - INFO - Copying dataset structure...\n",
      "2025-06-15 15:00:07,631 - INFO - Processing camera keys: ['observation.images.left_view', 'observation.images.top_view', 'observation.images.right_view', 'observation.images.side_view']\n",
      "2025-06-15 15:00:07,631 - INFO - Processing episode 0\n",
      "2025-06-15 15:00:07,631 - INFO -   Processing camera: observation.images.left_view\n",
      "2025-06-15 15:00:08,664 - ERROR - Failed to stabilize /home/afafelwafi/.cache/huggingface/lerobot/ml6team/lerobot-hackathon-dummy-dataset-v2-red-frames/videos/chunk-000/observation.images.left_view/episode_000000.mp4: VidStab.stabilize() got an unexpected keyword argument 'max_shift_percent'\n",
      "2025-06-15 15:00:08,664 - WARNING -     Failed to stabilize: videos/chunk-000/observation.images.left_view/episode_000000.mp4\n",
      "2025-06-15 15:00:08,667 - INFO -   Processing camera: observation.images.top_view\n",
      "2025-06-15 15:00:09,604 - ERROR - Failed to stabilize /home/afafelwafi/.cache/huggingface/lerobot/ml6team/lerobot-hackathon-dummy-dataset-v2-red-frames/videos/chunk-000/observation.images.top_view/episode_000000.mp4: VidStab.stabilize() got an unexpected keyword argument 'max_shift_percent'\n",
      "2025-06-15 15:00:09,604 - WARNING -     Failed to stabilize: videos/chunk-000/observation.images.top_view/episode_000000.mp4\n",
      "2025-06-15 15:00:09,607 - INFO -   Processing camera: observation.images.right_view\n",
      "2025-06-15 15:00:10,669 - ERROR - Failed to stabilize /home/afafelwafi/.cache/huggingface/lerobot/ml6team/lerobot-hackathon-dummy-dataset-v2-red-frames/videos/chunk-000/observation.images.right_view/episode_000000.mp4: VidStab.stabilize() got an unexpected keyword argument 'max_shift_percent'\n",
      "2025-06-15 15:00:10,669 - WARNING -     Failed to stabilize: videos/chunk-000/observation.images.right_view/episode_000000.mp4\n",
      "2025-06-15 15:00:10,675 - INFO -   Processing camera: observation.images.side_view\n",
      "2025-06-15 15:00:11,593 - ERROR - Failed to stabilize /home/afafelwafi/.cache/huggingface/lerobot/ml6team/lerobot-hackathon-dummy-dataset-v2-red-frames/videos/chunk-000/observation.images.side_view/episode_000000.mp4: VidStab.stabilize() got an unexpected keyword argument 'max_shift_percent'\n",
      "2025-06-15 15:00:11,593 - WARNING -     Failed to stabilize: videos/chunk-000/observation.images.side_view/episode_000000.mp4\n",
      "2025-06-15 15:00:11,599 - INFO - Dataset stabilization complete. Saved to: ml6team/lerobot-hackathon-dummy-dataset-v2-red-frames_enhanced\n"
     ]
    }
   ],
   "source": [
    "!python ../scripts/stabilize_videos.py --input_repo_id ml6team/lerobot-hackathon-dummy-dataset-v2-red-frames --output_dir {dir_after} --episodes 0\n"
   ]
  },
  {
   "cell_type": "code",
   "execution_count": 18,
   "id": "fd794e67",
   "metadata": {},
   "outputs": [
    {
     "data": {
      "text/html": [
       "<video src=\"/home/afafelwafi/.cache/huggingface/lerobot/ml6team/lerobot-hackathon-dummy-dataset-v2-red-frames/videos/videos/chunk-000/observation.images.top_view/episode_000000.mp4\" controls  width=\"640\"  height=\"480\">\n",
       "      Your browser does not support the <code>video</code> element.\n",
       "    </video>"
      ],
      "text/plain": [
       "<IPython.core.display.Video object>"
      ]
     },
     "execution_count": 18,
     "metadata": {},
     "output_type": "execute_result"
    }
   ],
   "source": [
    "Video(url=f\"{dir_before}/{video_path}\",width=640, height=480)"
   ]
  },
  {
   "cell_type": "code",
   "execution_count": 19,
   "id": "ee161f3a",
   "metadata": {},
   "outputs": [
    {
     "data": {
      "text/html": [
       "<video src=\"ml6team/lerobot-hackathon-dummy-dataset-v2-red-frames_enhanced/videos/videos/chunk-000/observation.images.top_view/episode_000000.mp4\" controls  >\n",
       "      Your browser does not support the <code>video</code> element.\n",
       "    </video>"
      ],
      "text/plain": [
       "<IPython.core.display.Video object>"
      ]
     },
     "execution_count": 19,
     "metadata": {},
     "output_type": "execute_result"
    }
   ],
   "source": [
    "\n",
    "Video(url=f\"{dir_after}/{video_path}\")"
   ]
  }
 ],
 "metadata": {
  "kernelspec": {
   "display_name": "Python 3 (ipykernel)",
   "language": "python",
   "name": "python3"
  },
  "language_info": {
   "codemirror_mode": {
    "name": "ipython",
    "version": 3
   },
   "file_extension": ".py",
   "mimetype": "text/x-python",
   "name": "python",
   "nbconvert_exporter": "python",
   "pygments_lexer": "ipython3",
   "version": "3.11.8"
  }
 },
 "nbformat": 4,
 "nbformat_minor": 5
}
